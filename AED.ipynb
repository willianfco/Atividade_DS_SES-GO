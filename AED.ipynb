{
 "cells": [
  {
   "cell_type": "code",
   "execution_count": 1,
   "metadata": {},
   "outputs": [],
   "source": [
    "# Estudo: Análise Exploratória dos dados de Leitos cadastrados no Subsistema LT do CNES para o Estado de Goiás\n",
    "# Autor: Willian Oliveira\n",
    "# Inicio: 28/12/2022\n",
    "# Motivação: Descrever a evolução da capacidade hospitalar durante a pandemia de Covid-19 em Goiás.\n",
    "# Status do Estudo: Em andamento"
   ]
  },
  {
   "cell_type": "code",
   "execution_count": 2,
   "metadata": {},
   "outputs": [],
   "source": [
    "# Importando as bibliotecas que serão utilizadas:\n",
    "import glob\n",
    "import pandas as pd\n",
    "import plotly.express as px\n",
    "from IPython.display import display, Markdown"
   ]
  },
  {
   "attachments": {},
   "cell_type": "markdown",
   "metadata": {},
   "source": [
    "### <a>Criando o dataset:</a>"
   ]
  },
  {
   "cell_type": "code",
   "execution_count": 3,
   "metadata": {},
   "outputs": [
    {
     "name": "stdout",
     "output_type": "stream",
     "text": [
      "O dataset em análise vai de Janeiro de 2019 à Novembro de 2022 e tem 137257 linhas de registro e 28 variáveis.\n"
     ]
    },
    {
     "data": {
      "text/html": [
       "<style type=\"text/css\">\n",
       "</style>\n",
       "<table id=\"T_b75ca\">\n",
       "  <thead>\n",
       "    <tr>\n",
       "      <th class=\"blank level0\" >&nbsp;</th>\n",
       "      <th id=\"T_b75ca_level0_col0\" class=\"col_heading level0 col0\" >CNES</th>\n",
       "      <th id=\"T_b75ca_level0_col1\" class=\"col_heading level0 col1\" >CODUFMUN</th>\n",
       "      <th id=\"T_b75ca_level0_col2\" class=\"col_heading level0 col2\" >REGSAUDE</th>\n",
       "      <th id=\"T_b75ca_level0_col3\" class=\"col_heading level0 col3\" >MICR_REG</th>\n",
       "      <th id=\"T_b75ca_level0_col4\" class=\"col_heading level0 col4\" >DISTRSAN</th>\n",
       "      <th id=\"T_b75ca_level0_col5\" class=\"col_heading level0 col5\" >DISTRADM</th>\n",
       "      <th id=\"T_b75ca_level0_col6\" class=\"col_heading level0 col6\" >TPGESTAO</th>\n",
       "      <th id=\"T_b75ca_level0_col7\" class=\"col_heading level0 col7\" >PF_PJ</th>\n",
       "      <th id=\"T_b75ca_level0_col8\" class=\"col_heading level0 col8\" >CPF_CNPJ</th>\n",
       "      <th id=\"T_b75ca_level0_col9\" class=\"col_heading level0 col9\" >NIV_DEP</th>\n",
       "      <th id=\"T_b75ca_level0_col10\" class=\"col_heading level0 col10\" >CNPJ_MAN</th>\n",
       "      <th id=\"T_b75ca_level0_col11\" class=\"col_heading level0 col11\" >ESFERA_A</th>\n",
       "      <th id=\"T_b75ca_level0_col12\" class=\"col_heading level0 col12\" >ATIVIDAD</th>\n",
       "      <th id=\"T_b75ca_level0_col13\" class=\"col_heading level0 col13\" >RETENCAO</th>\n",
       "      <th id=\"T_b75ca_level0_col14\" class=\"col_heading level0 col14\" >NATUREZA</th>\n",
       "      <th id=\"T_b75ca_level0_col15\" class=\"col_heading level0 col15\" >CLIENTEL</th>\n",
       "      <th id=\"T_b75ca_level0_col16\" class=\"col_heading level0 col16\" >TP_UNID</th>\n",
       "      <th id=\"T_b75ca_level0_col17\" class=\"col_heading level0 col17\" >TURNO_AT</th>\n",
       "      <th id=\"T_b75ca_level0_col18\" class=\"col_heading level0 col18\" >NIV_HIER</th>\n",
       "      <th id=\"T_b75ca_level0_col19\" class=\"col_heading level0 col19\" >TERCEIRO</th>\n",
       "      <th id=\"T_b75ca_level0_col20\" class=\"col_heading level0 col20\" >TP_LEITO</th>\n",
       "      <th id=\"T_b75ca_level0_col21\" class=\"col_heading level0 col21\" >CODLEITO</th>\n",
       "      <th id=\"T_b75ca_level0_col22\" class=\"col_heading level0 col22\" >QT_EXIST</th>\n",
       "      <th id=\"T_b75ca_level0_col23\" class=\"col_heading level0 col23\" >QT_CONTR</th>\n",
       "      <th id=\"T_b75ca_level0_col24\" class=\"col_heading level0 col24\" >QT_SUS</th>\n",
       "      <th id=\"T_b75ca_level0_col25\" class=\"col_heading level0 col25\" >QT_NSUS</th>\n",
       "      <th id=\"T_b75ca_level0_col26\" class=\"col_heading level0 col26\" >COMPETEN</th>\n",
       "      <th id=\"T_b75ca_level0_col27\" class=\"col_heading level0 col27\" >NAT_JUR</th>\n",
       "    </tr>\n",
       "  </thead>\n",
       "  <tbody>\n",
       "    <tr>\n",
       "      <th id=\"T_b75ca_level0_row0\" class=\"row_heading level0 row0\" >0</th>\n",
       "      <td id=\"T_b75ca_row0_col0\" class=\"data row0 col0\" >9331603</td>\n",
       "      <td id=\"T_b75ca_row0_col1\" class=\"data row0 col1\" >520010</td>\n",
       "      <td id=\"T_b75ca_row0_col2\" class=\"data row0 col2\" >nan</td>\n",
       "      <td id=\"T_b75ca_row0_col3\" class=\"data row0 col3\" >nan</td>\n",
       "      <td id=\"T_b75ca_row0_col4\" class=\"data row0 col4\" >nan</td>\n",
       "      <td id=\"T_b75ca_row0_col5\" class=\"data row0 col5\" >nan</td>\n",
       "      <td id=\"T_b75ca_row0_col6\" class=\"data row0 col6\" >M</td>\n",
       "      <td id=\"T_b75ca_row0_col7\" class=\"data row0 col7\" >3</td>\n",
       "      <td id=\"T_b75ca_row0_col8\" class=\"data row0 col8\" >0</td>\n",
       "      <td id=\"T_b75ca_row0_col9\" class=\"data row0 col9\" >3</td>\n",
       "      <td id=\"T_b75ca_row0_col10\" class=\"data row0 col10\" >1298330000178</td>\n",
       "      <td id=\"T_b75ca_row0_col11\" class=\"data row0 col11\" >nan</td>\n",
       "      <td id=\"T_b75ca_row0_col12\" class=\"data row0 col12\" >4</td>\n",
       "      <td id=\"T_b75ca_row0_col13\" class=\"data row0 col13\" >nan</td>\n",
       "      <td id=\"T_b75ca_row0_col14\" class=\"data row0 col14\" >nan</td>\n",
       "      <td id=\"T_b75ca_row0_col15\" class=\"data row0 col15\" >3.000000</td>\n",
       "      <td id=\"T_b75ca_row0_col16\" class=\"data row0 col16\" >15</td>\n",
       "      <td id=\"T_b75ca_row0_col17\" class=\"data row0 col17\" >6</td>\n",
       "      <td id=\"T_b75ca_row0_col18\" class=\"data row0 col18\" >nan</td>\n",
       "      <td id=\"T_b75ca_row0_col19\" class=\"data row0 col19\" >nan</td>\n",
       "      <td id=\"T_b75ca_row0_col20\" class=\"data row0 col20\" >2</td>\n",
       "      <td id=\"T_b75ca_row0_col21\" class=\"data row0 col21\" >33</td>\n",
       "      <td id=\"T_b75ca_row0_col22\" class=\"data row0 col22\" >9</td>\n",
       "      <td id=\"T_b75ca_row0_col23\" class=\"data row0 col23\" >0</td>\n",
       "      <td id=\"T_b75ca_row0_col24\" class=\"data row0 col24\" >9</td>\n",
       "      <td id=\"T_b75ca_row0_col25\" class=\"data row0 col25\" >0</td>\n",
       "      <td id=\"T_b75ca_row0_col26\" class=\"data row0 col26\" >201901</td>\n",
       "      <td id=\"T_b75ca_row0_col27\" class=\"data row0 col27\" >1244</td>\n",
       "    </tr>\n",
       "    <tr>\n",
       "      <th id=\"T_b75ca_level0_row1\" class=\"row_heading level0 row1\" >27431</th>\n",
       "      <td id=\"T_b75ca_row1_col0\" class=\"data row1 col0\" >2570378</td>\n",
       "      <td id=\"T_b75ca_row1_col1\" class=\"data row1 col1\" >521310</td>\n",
       "      <td id=\"T_b75ca_row1_col2\" class=\"data row1 col2\" >14</td>\n",
       "      <td id=\"T_b75ca_row1_col3\" class=\"data row1 col3\" >nan</td>\n",
       "      <td id=\"T_b75ca_row1_col4\" class=\"data row1 col4\" >nan</td>\n",
       "      <td id=\"T_b75ca_row1_col5\" class=\"data row1 col5\" >nan</td>\n",
       "      <td id=\"T_b75ca_row1_col6\" class=\"data row1 col6\" >M</td>\n",
       "      <td id=\"T_b75ca_row1_col7\" class=\"data row1 col7\" >3</td>\n",
       "      <td id=\"T_b75ca_row1_col8\" class=\"data row1 col8\" >2314599000163</td>\n",
       "      <td id=\"T_b75ca_row1_col9\" class=\"data row1 col9\" >1</td>\n",
       "      <td id=\"T_b75ca_row1_col10\" class=\"data row1 col10\" >0</td>\n",
       "      <td id=\"T_b75ca_row1_col11\" class=\"data row1 col11\" >nan</td>\n",
       "      <td id=\"T_b75ca_row1_col12\" class=\"data row1 col12\" >4</td>\n",
       "      <td id=\"T_b75ca_row1_col13\" class=\"data row1 col13\" >nan</td>\n",
       "      <td id=\"T_b75ca_row1_col14\" class=\"data row1 col14\" >nan</td>\n",
       "      <td id=\"T_b75ca_row1_col15\" class=\"data row1 col15\" >3.000000</td>\n",
       "      <td id=\"T_b75ca_row1_col16\" class=\"data row1 col16\" >5</td>\n",
       "      <td id=\"T_b75ca_row1_col17\" class=\"data row1 col17\" >6</td>\n",
       "      <td id=\"T_b75ca_row1_col18\" class=\"data row1 col18\" >nan</td>\n",
       "      <td id=\"T_b75ca_row1_col19\" class=\"data row1 col19\" >nan</td>\n",
       "      <td id=\"T_b75ca_row1_col20\" class=\"data row1 col20\" >4</td>\n",
       "      <td id=\"T_b75ca_row1_col21\" class=\"data row1 col21\" >43</td>\n",
       "      <td id=\"T_b75ca_row1_col22\" class=\"data row1 col22\" >2</td>\n",
       "      <td id=\"T_b75ca_row1_col23\" class=\"data row1 col23\" >0</td>\n",
       "      <td id=\"T_b75ca_row1_col24\" class=\"data row1 col24\" >2</td>\n",
       "      <td id=\"T_b75ca_row1_col25\" class=\"data row1 col25\" >0</td>\n",
       "      <td id=\"T_b75ca_row1_col26\" class=\"data row1 col26\" >201910</td>\n",
       "      <td id=\"T_b75ca_row1_col27\" class=\"data row1 col27\" >2089</td>\n",
       "    </tr>\n",
       "    <tr>\n",
       "      <th id=\"T_b75ca_level0_row2\" class=\"row_heading level0 row2\" >54862</th>\n",
       "      <td id=\"T_b75ca_row2_col0\" class=\"data row2 col0\" >2338734</td>\n",
       "      <td id=\"T_b75ca_row2_col1\" class=\"data row2 col1\" >520870</td>\n",
       "      <td id=\"T_b75ca_row2_col2\" class=\"data row2 col2\" >nan</td>\n",
       "      <td id=\"T_b75ca_row2_col3\" class=\"data row2 col3\" >nan</td>\n",
       "      <td id=\"T_b75ca_row2_col4\" class=\"data row2 col4\" >nan</td>\n",
       "      <td id=\"T_b75ca_row2_col5\" class=\"data row2 col5\" >nan</td>\n",
       "      <td id=\"T_b75ca_row2_col6\" class=\"data row2 col6\" >M</td>\n",
       "      <td id=\"T_b75ca_row2_col7\" class=\"data row2 col7\" >3</td>\n",
       "      <td id=\"T_b75ca_row2_col8\" class=\"data row2 col8\" >0</td>\n",
       "      <td id=\"T_b75ca_row2_col9\" class=\"data row2 col9\" >3</td>\n",
       "      <td id=\"T_b75ca_row2_col10\" class=\"data row2 col10\" >2529964000157</td>\n",
       "      <td id=\"T_b75ca_row2_col11\" class=\"data row2 col11\" >nan</td>\n",
       "      <td id=\"T_b75ca_row2_col12\" class=\"data row2 col12\" >3</td>\n",
       "      <td id=\"T_b75ca_row2_col13\" class=\"data row2 col13\" >nan</td>\n",
       "      <td id=\"T_b75ca_row2_col14\" class=\"data row2 col14\" >nan</td>\n",
       "      <td id=\"T_b75ca_row2_col15\" class=\"data row2 col15\" >2.000000</td>\n",
       "      <td id=\"T_b75ca_row2_col16\" class=\"data row2 col16\" >5</td>\n",
       "      <td id=\"T_b75ca_row2_col17\" class=\"data row2 col17\" >6</td>\n",
       "      <td id=\"T_b75ca_row2_col18\" class=\"data row2 col18\" >nan</td>\n",
       "      <td id=\"T_b75ca_row2_col19\" class=\"data row2 col19\" >nan</td>\n",
       "      <td id=\"T_b75ca_row2_col20\" class=\"data row2 col20\" >1</td>\n",
       "      <td id=\"T_b75ca_row2_col21\" class=\"data row2 col21\" >13</td>\n",
       "      <td id=\"T_b75ca_row2_col22\" class=\"data row2 col22\" >12</td>\n",
       "      <td id=\"T_b75ca_row2_col23\" class=\"data row2 col23\" >0</td>\n",
       "      <td id=\"T_b75ca_row2_col24\" class=\"data row2 col24\" >12</td>\n",
       "      <td id=\"T_b75ca_row2_col25\" class=\"data row2 col25\" >0</td>\n",
       "      <td id=\"T_b75ca_row2_col26\" class=\"data row2 col26\" >202008</td>\n",
       "      <td id=\"T_b75ca_row2_col27\" class=\"data row2 col27\" >1023</td>\n",
       "    </tr>\n",
       "    <tr>\n",
       "      <th id=\"T_b75ca_level0_row3\" class=\"row_heading level0 row3\" >82293</th>\n",
       "      <td id=\"T_b75ca_row3_col0\" class=\"data row3 col0\" >2571072</td>\n",
       "      <td id=\"T_b75ca_row3_col1\" class=\"data row3 col1\" >521310</td>\n",
       "      <td id=\"T_b75ca_row3_col2\" class=\"data row3 col2\" >014</td>\n",
       "      <td id=\"T_b75ca_row3_col3\" class=\"data row3 col3\" >nan</td>\n",
       "      <td id=\"T_b75ca_row3_col4\" class=\"data row3 col4\" >nan</td>\n",
       "      <td id=\"T_b75ca_row3_col5\" class=\"data row3 col5\" >nan</td>\n",
       "      <td id=\"T_b75ca_row3_col6\" class=\"data row3 col6\" >M</td>\n",
       "      <td id=\"T_b75ca_row3_col7\" class=\"data row3 col7\" >3</td>\n",
       "      <td id=\"T_b75ca_row3_col8\" class=\"data row3 col8\" >2892529000192</td>\n",
       "      <td id=\"T_b75ca_row3_col9\" class=\"data row3 col9\" >1</td>\n",
       "      <td id=\"T_b75ca_row3_col10\" class=\"data row3 col10\" >0</td>\n",
       "      <td id=\"T_b75ca_row3_col11\" class=\"data row3 col11\" >nan</td>\n",
       "      <td id=\"T_b75ca_row3_col12\" class=\"data row3 col12\" >4</td>\n",
       "      <td id=\"T_b75ca_row3_col13\" class=\"data row3 col13\" >nan</td>\n",
       "      <td id=\"T_b75ca_row3_col14\" class=\"data row3 col14\" >nan</td>\n",
       "      <td id=\"T_b75ca_row3_col15\" class=\"data row3 col15\" >1.000000</td>\n",
       "      <td id=\"T_b75ca_row3_col16\" class=\"data row3 col16\" >5</td>\n",
       "      <td id=\"T_b75ca_row3_col17\" class=\"data row3 col17\" >6</td>\n",
       "      <td id=\"T_b75ca_row3_col18\" class=\"data row3 col18\" >nan</td>\n",
       "      <td id=\"T_b75ca_row3_col19\" class=\"data row3 col19\" >nan</td>\n",
       "      <td id=\"T_b75ca_row3_col20\" class=\"data row3 col20\" >1</td>\n",
       "      <td id=\"T_b75ca_row3_col21\" class=\"data row3 col21\" >3</td>\n",
       "      <td id=\"T_b75ca_row3_col22\" class=\"data row3 col22\" >15</td>\n",
       "      <td id=\"T_b75ca_row3_col23\" class=\"data row3 col23\" >0</td>\n",
       "      <td id=\"T_b75ca_row3_col24\" class=\"data row3 col24\" >5</td>\n",
       "      <td id=\"T_b75ca_row3_col25\" class=\"data row3 col25\" >10</td>\n",
       "      <td id=\"T_b75ca_row3_col26\" class=\"data row3 col26\" >202105</td>\n",
       "      <td id=\"T_b75ca_row3_col27\" class=\"data row3 col27\" >2062</td>\n",
       "    </tr>\n",
       "    <tr>\n",
       "      <th id=\"T_b75ca_level0_row4\" class=\"row_heading level0 row4\" >109724</th>\n",
       "      <td id=\"T_b75ca_row4_col0\" class=\"data row4 col0\" >2506947</td>\n",
       "      <td id=\"T_b75ca_row4_col1\" class=\"data row4 col1\" >521570</td>\n",
       "      <td id=\"T_b75ca_row4_col2\" class=\"data row4 col2\" >11</td>\n",
       "      <td id=\"T_b75ca_row4_col3\" class=\"data row4 col3\" >nan</td>\n",
       "      <td id=\"T_b75ca_row4_col4\" class=\"data row4 col4\" >nan</td>\n",
       "      <td id=\"T_b75ca_row4_col5\" class=\"data row4 col5\" >nan</td>\n",
       "      <td id=\"T_b75ca_row4_col6\" class=\"data row4 col6\" >M</td>\n",
       "      <td id=\"T_b75ca_row4_col7\" class=\"data row4 col7\" >3</td>\n",
       "      <td id=\"T_b75ca_row4_col8\" class=\"data row4 col8\" >2393874000181</td>\n",
       "      <td id=\"T_b75ca_row4_col9\" class=\"data row4 col9\" >1</td>\n",
       "      <td id=\"T_b75ca_row4_col10\" class=\"data row4 col10\" >0</td>\n",
       "      <td id=\"T_b75ca_row4_col11\" class=\"data row4 col11\" >nan</td>\n",
       "      <td id=\"T_b75ca_row4_col12\" class=\"data row4 col12\" >4</td>\n",
       "      <td id=\"T_b75ca_row4_col13\" class=\"data row4 col13\" >nan</td>\n",
       "      <td id=\"T_b75ca_row4_col14\" class=\"data row4 col14\" >nan</td>\n",
       "      <td id=\"T_b75ca_row4_col15\" class=\"data row4 col15\" >3.000000</td>\n",
       "      <td id=\"T_b75ca_row4_col16\" class=\"data row4 col16\" >5</td>\n",
       "      <td id=\"T_b75ca_row4_col17\" class=\"data row4 col17\" >6</td>\n",
       "      <td id=\"T_b75ca_row4_col18\" class=\"data row4 col18\" >nan</td>\n",
       "      <td id=\"T_b75ca_row4_col19\" class=\"data row4 col19\" >nan</td>\n",
       "      <td id=\"T_b75ca_row4_col20\" class=\"data row4 col20\" >4</td>\n",
       "      <td id=\"T_b75ca_row4_col21\" class=\"data row4 col21\" >10</td>\n",
       "      <td id=\"T_b75ca_row4_col22\" class=\"data row4 col22\" >5</td>\n",
       "      <td id=\"T_b75ca_row4_col23\" class=\"data row4 col23\" >0</td>\n",
       "      <td id=\"T_b75ca_row4_col24\" class=\"data row4 col24\" >3</td>\n",
       "      <td id=\"T_b75ca_row4_col25\" class=\"data row4 col25\" >2</td>\n",
       "      <td id=\"T_b75ca_row4_col26\" class=\"data row4 col26\" >202202</td>\n",
       "      <td id=\"T_b75ca_row4_col27\" class=\"data row4 col27\" >2062</td>\n",
       "    </tr>\n",
       "    <tr>\n",
       "      <th id=\"T_b75ca_level0_row5\" class=\"row_heading level0 row5\" >137155</th>\n",
       "      <td id=\"T_b75ca_row5_col0\" class=\"data row5 col0\" >2570416</td>\n",
       "      <td id=\"T_b75ca_row5_col1\" class=\"data row5 col1\" >522150</td>\n",
       "      <td id=\"T_b75ca_row5_col2\" class=\"data row5 col2\" >22</td>\n",
       "      <td id=\"T_b75ca_row5_col3\" class=\"data row5 col3\" >nan</td>\n",
       "      <td id=\"T_b75ca_row5_col4\" class=\"data row5 col4\" >nan</td>\n",
       "      <td id=\"T_b75ca_row5_col5\" class=\"data row5 col5\" >nan</td>\n",
       "      <td id=\"T_b75ca_row5_col6\" class=\"data row5 col6\" >M</td>\n",
       "      <td id=\"T_b75ca_row5_col7\" class=\"data row5 col7\" >3</td>\n",
       "      <td id=\"T_b75ca_row5_col8\" class=\"data row5 col8\" >0</td>\n",
       "      <td id=\"T_b75ca_row5_col9\" class=\"data row5 col9\" >3</td>\n",
       "      <td id=\"T_b75ca_row5_col10\" class=\"data row5 col10\" >2321883000167</td>\n",
       "      <td id=\"T_b75ca_row5_col11\" class=\"data row5 col11\" >nan</td>\n",
       "      <td id=\"T_b75ca_row5_col12\" class=\"data row5 col12\" >4</td>\n",
       "      <td id=\"T_b75ca_row5_col13\" class=\"data row5 col13\" >nan</td>\n",
       "      <td id=\"T_b75ca_row5_col14\" class=\"data row5 col14\" >nan</td>\n",
       "      <td id=\"T_b75ca_row5_col15\" class=\"data row5 col15\" >3.000000</td>\n",
       "      <td id=\"T_b75ca_row5_col16\" class=\"data row5 col16\" >5</td>\n",
       "      <td id=\"T_b75ca_row5_col17\" class=\"data row5 col17\" >6</td>\n",
       "      <td id=\"T_b75ca_row5_col18\" class=\"data row5 col18\" >nan</td>\n",
       "      <td id=\"T_b75ca_row5_col19\" class=\"data row5 col19\" >nan</td>\n",
       "      <td id=\"T_b75ca_row5_col20\" class=\"data row5 col20\" >4</td>\n",
       "      <td id=\"T_b75ca_row5_col21\" class=\"data row5 col21\" >43</td>\n",
       "      <td id=\"T_b75ca_row5_col22\" class=\"data row5 col22\" >1</td>\n",
       "      <td id=\"T_b75ca_row5_col23\" class=\"data row5 col23\" >0</td>\n",
       "      <td id=\"T_b75ca_row5_col24\" class=\"data row5 col24\" >1</td>\n",
       "      <td id=\"T_b75ca_row5_col25\" class=\"data row5 col25\" >0</td>\n",
       "      <td id=\"T_b75ca_row5_col26\" class=\"data row5 col26\" >202211</td>\n",
       "      <td id=\"T_b75ca_row5_col27\" class=\"data row5 col27\" >1244</td>\n",
       "    </tr>\n",
       "  </tbody>\n",
       "</table>\n"
      ],
      "text/plain": [
       "<pandas.io.formats.style.Styler at 0x271fb7b38e0>"
      ]
     },
     "execution_count": 3,
     "metadata": {},
     "output_type": "execute_result"
    }
   ],
   "source": [
    "# Criando o dataset com base nos arquivos dbc extraidos do DATASUS e convertidos em csv para uso do Pandas.\n",
    "# A conversão dos dbc's em csv's foi feita por meio do utilitário dbc2csv em maquina linux. O utilitário está disponível em: https://github.com/greatjapa/dbc2csv\n",
    "\n",
    "path = 'data'\n",
    "all_files = glob.glob(path + \"/*.csv\")\n",
    "\n",
    "li = []\n",
    "\n",
    "for filename in all_files:\n",
    "    df = pd.read_csv(filename, index_col=None, header=0, encoding='latin-1')\n",
    "    li.append(df)\n",
    "\n",
    "dataset = pd.concat(li, axis=0, ignore_index=True)\n",
    "print(f'O dataset em análise vai de Janeiro de 2019 à Novembro de 2022 e tem {len(dataset)} linhas de registro e {len(dataset.columns)} variáveis.')\n",
    "dataset[::27431].style # Visualizando uma amostra da base"
   ]
  },
  {
   "attachments": {},
   "cell_type": "markdown",
   "metadata": {},
   "source": [
    "### <a>Dicionário de Dados:</a>\n"
   ]
  },
  {
   "attachments": {},
   "cell_type": "markdown",
   "metadata": {},
   "source": [
    "| Variável | Definição | Tipo e Tamanho |\n",
    "| --- | --- | --- |\n",
    "| CNES | Número nacional do estabelecimento de saúde. | CHAR (7)|\n",
    "| CODUFMUN   | Código do município do estabelecimento UF+ MUNIC (sem dígito) | CHAR (6) |\n",
    "| REGSAUDE   | Código da região de saúde | CHAR (4) |\n",
    "| MICR_REG   | Código da micro-região de saúde | CHAR (6) |\n",
    "| DISTRSAN   | Código do distrito sanitário | CHAR (4) |\n",
    "| DISTRADM   | Código do distrito administrativo | CHAR (4) |\n",
    "| TPGESTAO   | Gestão de saúde | CHAR (1) |\n",
    "| PF_PJ      | Indicador de pessoa: 1-Física 3-Jurídica | CHAR (1) |\n",
    "| CPF_CNPJ   | CPF do Estabelecimento, caso pessoa física ou CNPJ, caso pessoa jurídica  | CHAR (14) |\n",
    "| NIV_DEP    | Grau de dependência: 1-Individual 3-Mantida | CHAR (1) |\n",
    "| CNPJ_MAN   | CNPJ da mantenedora do Estabelecimento | CHAR (14) |\n",
    "| ESFERA_A   | Código da esfera administrativa | CHAR (2) |\n",
    "| ATIVIDAD   | Código da atividade de ensino | CHAR (2) |\n",
    "| RETENCAO   | Código de retenção de tributos | CHAR (2) |\n",
    "| NATUREZA   | Código da natureza da organização | CHAR (2) |\n",
    "| CLIENTEL   | Código de fluxo da clientela | CHAR (2) |\n",
    "| TP_UNID    | Tipo de unidade (Estabelecimento) | CHAR (2) |\n",
    "| TURNO_AT   | Código de turno de atendimento | CHAR (2) |\n",
    "| NIV_HIER   | Código do nível de hierarquia | CHAR (2) |\n",
    "| TERCEIRO   | O estabelecimento é terceiro: 1-Sim 0-Não | CHAR (1) |\n",
    "| TP_LEITO   | Tipo do Leito | CHAR (2) |\n",
    "| CODLEITOO  | Especialidade do Leito | CHAR (2) |\n",
    "| QT_EXIST   | Quantidade de leitos existentes | NUMERIC (4) |\n",
    "| QT_CONTR   | Quantidade de leitos contratados | NUMERIC (4) |\n",
    "| QT_SUS     | Quantidade de leitos para o SUS | NUMERIC (4) |\n",
    "| QT_NSUS    | <span style=\"color:red\">Não consta na Documentação IT_CNES_1706</span> |  |\n",
    "| COMPETEN   | Ano e Mês de competência da informação (AAAAMM) | CHAR (6) |\n",
    "| NAT_JUR    | <span style=\"color:red\">Não consta na Documentação IT_CNES_1706</span> |  |"
   ]
  },
  {
   "attachments": {},
   "cell_type": "markdown",
   "metadata": {},
   "source": [
    "### <a>AED: Verificação das Variáveis</a>"
   ]
  },
  {
   "cell_type": "code",
   "execution_count": 4,
   "metadata": {},
   "outputs": [
    {
     "name": "stdout",
     "output_type": "stream",
     "text": [
      "<class 'pandas.core.frame.DataFrame'>\n",
      "RangeIndex: 137257 entries, 0 to 137256\n",
      "Data columns (total 28 columns):\n",
      " #   Column    Non-Null Count   Dtype  \n",
      "---  ------    --------------   -----  \n",
      " 0   CNES      137257 non-null  int64  \n",
      " 1   CODUFMUN  137257 non-null  int64  \n",
      " 2   REGSAUDE  84127 non-null   object \n",
      " 3   MICR_REG  7313 non-null    object \n",
      " 4   DISTRSAN  0 non-null       float64\n",
      " 5   DISTRADM  1450 non-null    object \n",
      " 6   TPGESTAO  137257 non-null  object \n",
      " 7   PF_PJ     137257 non-null  int64  \n",
      " 8   CPF_CNPJ  137257 non-null  int64  \n",
      " 9   NIV_DEP   137257 non-null  int64  \n",
      " 10  CNPJ_MAN  137257 non-null  int64  \n",
      " 11  ESFERA_A  0 non-null       float64\n",
      " 12  ATIVIDAD  137257 non-null  int64  \n",
      " 13  RETENCAO  0 non-null       float64\n",
      " 14  NATUREZA  0 non-null       float64\n",
      " 15  CLIENTEL  136506 non-null  float64\n",
      " 16  TP_UNID   137257 non-null  int64  \n",
      " 17  TURNO_AT  137257 non-null  int64  \n",
      " 18  NIV_HIER  0 non-null       float64\n",
      " 19  TERCEIRO  0 non-null       float64\n",
      " 20  TP_LEITO  137257 non-null  int64  \n",
      " 21  CODLEITO  137257 non-null  int64  \n",
      " 22  QT_EXIST  137257 non-null  int64  \n",
      " 23  QT_CONTR  137257 non-null  int64  \n",
      " 24  QT_SUS    137257 non-null  int64  \n",
      " 25  QT_NSUS   137257 non-null  int64  \n",
      " 26  COMPETEN  137257 non-null  int64  \n",
      " 27  NAT_JUR   137257 non-null  int64  \n",
      "dtypes: float64(7), int64(17), object(4)\n",
      "memory usage: 29.3+ MB\n"
     ]
    }
   ],
   "source": [
    "dataset.info()"
   ]
  },
  {
   "cell_type": "code",
   "execution_count": 5,
   "metadata": {},
   "outputs": [],
   "source": [
    "# Algumas variáveis estão como dtype int ou float mas deveriam ser object, vamos corrigir isso:\n",
    "variaveis_obj = dataset.columns.drop(list(dataset.filter(regex='QT')))\n",
    "dataset[variaveis_obj] = dataset[variaveis_obj].astype(object)\n"
   ]
  },
  {
   "cell_type": "code",
   "execution_count": 6,
   "metadata": {},
   "outputs": [],
   "source": [
    "# As informações referentes ao mês de competência estão em formato de objeto, porém, para análises temporais, transformaremos a variável em datetime.\n",
    "dataset['COMPETEN'] = pd.to_datetime(dataset['COMPETEN'], format='%Y%m')"
   ]
  },
  {
   "cell_type": "code",
   "execution_count": 7,
   "metadata": {},
   "outputs": [
    {
     "name": "stdout",
     "output_type": "stream",
     "text": [
      "<class 'pandas.core.frame.DataFrame'>\n",
      "RangeIndex: 137257 entries, 0 to 137256\n",
      "Data columns (total 28 columns):\n",
      " #   Column    Non-Null Count   Dtype         \n",
      "---  ------    --------------   -----         \n",
      " 0   CNES      137257 non-null  object        \n",
      " 1   CODUFMUN  137257 non-null  object        \n",
      " 2   REGSAUDE  84127 non-null   object        \n",
      " 3   MICR_REG  7313 non-null    object        \n",
      " 4   DISTRSAN  0 non-null       object        \n",
      " 5   DISTRADM  1450 non-null    object        \n",
      " 6   TPGESTAO  137257 non-null  object        \n",
      " 7   PF_PJ     137257 non-null  object        \n",
      " 8   CPF_CNPJ  137257 non-null  object        \n",
      " 9   NIV_DEP   137257 non-null  object        \n",
      " 10  CNPJ_MAN  137257 non-null  object        \n",
      " 11  ESFERA_A  0 non-null       object        \n",
      " 12  ATIVIDAD  137257 non-null  object        \n",
      " 13  RETENCAO  0 non-null       object        \n",
      " 14  NATUREZA  0 non-null       object        \n",
      " 15  CLIENTEL  136506 non-null  object        \n",
      " 16  TP_UNID   137257 non-null  object        \n",
      " 17  TURNO_AT  137257 non-null  object        \n",
      " 18  NIV_HIER  0 non-null       object        \n",
      " 19  TERCEIRO  0 non-null       object        \n",
      " 20  TP_LEITO  137257 non-null  object        \n",
      " 21  CODLEITO  137257 non-null  object        \n",
      " 22  QT_EXIST  137257 non-null  int64         \n",
      " 23  QT_CONTR  137257 non-null  int64         \n",
      " 24  QT_SUS    137257 non-null  int64         \n",
      " 25  QT_NSUS   137257 non-null  int64         \n",
      " 26  COMPETEN  137257 non-null  datetime64[ns]\n",
      " 27  NAT_JUR   137257 non-null  object        \n",
      "dtypes: datetime64[ns](1), int64(4), object(23)\n",
      "memory usage: 29.3+ MB\n"
     ]
    }
   ],
   "source": [
    "# Verificando se todos os dados estão no tipo correto\n",
    "dataset.info()"
   ]
  },
  {
   "cell_type": "code",
   "execution_count": 8,
   "metadata": {},
   "outputs": [
    {
     "data": {
      "text/markdown": [
       "|          |   % missing values |\n",
       "|:---------|-------------------:|\n",
       "| NATUREZA |         100        |\n",
       "| NIV_HIER |         100        |\n",
       "| RETENCAO |         100        |\n",
       "| ESFERA_A |         100        |\n",
       "| TERCEIRO |         100        |\n",
       "| DISTRSAN |         100        |\n",
       "| DISTRADM |          98.9436   |\n",
       "| MICR_REG |          94.672    |\n",
       "| REGSAUDE |          38.7084   |\n",
       "| CLIENTEL |           0.547149 |\n",
       "| COMPETEN |           0        |\n",
       "| QT_NSUS  |           0        |\n",
       "| QT_CONTR |           0        |\n",
       "| QT_EXIST |           0        |\n",
       "| CODLEITO |           0        |\n",
       "| TP_LEITO |           0        |\n",
       "| QT_SUS   |           0        |\n",
       "| CNES     |           0        |\n",
       "| TURNO_AT |           0        |\n",
       "| TP_UNID  |           0        |\n",
       "| CODUFMUN |           0        |\n",
       "| ATIVIDAD |           0        |\n",
       "| CNPJ_MAN |           0        |\n",
       "| NIV_DEP  |           0        |\n",
       "| CPF_CNPJ |           0        |\n",
       "| PF_PJ    |           0        |\n",
       "| TPGESTAO |           0        |\n",
       "| NAT_JUR  |           0        |"
      ],
      "text/plain": [
       "<IPython.core.display.Markdown object>"
      ]
     },
     "metadata": {},
     "output_type": "display_data"
    }
   ],
   "source": [
    "# Verificando a concentração de missing values nas variáveis\n",
    "missing_values = dataset.isnull().sum() / len(dataset)*100\n",
    "missing_values = missing_values.sort_values(ascending=False)\n",
    "missing_values.rename(\"% missing values\", inplace=True)\n",
    "display(Markdown(missing_values.to_markdown()))\n",
    "del missing_values"
   ]
  },
  {
   "cell_type": "code",
   "execution_count": 9,
   "metadata": {},
   "outputs": [],
   "source": [
    "# Algumas variáveis estão com uma alta concentração de missimg values, iremos abrir mão dessas informações momentaneamente para construir um dataset com dados de melhor qualidade.\n",
    "dataset = dataset.drop(columns={'NATUREZA', 'NIV_HIER', 'RETENCAO', 'ESFERA_A', 'TERCEIRO', 'DISTRSAN', 'DISTRADM', 'MICR_REG', 'REGSAUDE'})"
   ]
  },
  {
   "cell_type": "code",
   "execution_count": 10,
   "metadata": {},
   "outputs": [],
   "source": [
    "# Reinserindo informações sobre região de saúde de acordo com o CODUFMUN e dados consolidado da Agência Nacional de Saúde Suplementar, atualizado em 08/12/2022.\n",
    "regionais = pd.read_excel('regionais-20de-20sade-xls', header=2) # Fonte: https://www.gov.br/ans/pt-br/assuntos/noticias/operadoras/regioes-de-saude\n",
    "regionais.rename(columns = {'NOME DA REGIÃO DE SAÚDE':'REGSAUDE', 'NOME DO MUNICÍPIO':'MUNICIPIO', 'CÓD. IBGE DO MUNICÍPIO':'CODUFMUN'}, inplace = True)\n",
    "regionais = regionais.query(\"UF == 'GO'\").reset_index().drop(columns={'index'})\n",
    "dataset = pd.merge(dataset, regionais, left_on=['CODUFMUN'], right_on=['CODUFMUN'])"
   ]
  },
  {
   "cell_type": "code",
   "execution_count": 11,
   "metadata": {},
   "outputs": [
    {
     "data": {
      "text/html": [
       "<style type=\"text/css\">\n",
       "</style>\n",
       "<table id=\"T_4bfcf\">\n",
       "  <thead>\n",
       "    <tr>\n",
       "      <th class=\"blank level0\" >&nbsp;</th>\n",
       "      <th id=\"T_4bfcf_level0_col0\" class=\"col_heading level0 col0\" >CNES</th>\n",
       "      <th id=\"T_4bfcf_level0_col1\" class=\"col_heading level0 col1\" >CODUFMUN</th>\n",
       "      <th id=\"T_4bfcf_level0_col2\" class=\"col_heading level0 col2\" >TPGESTAO</th>\n",
       "      <th id=\"T_4bfcf_level0_col3\" class=\"col_heading level0 col3\" >PF_PJ</th>\n",
       "      <th id=\"T_4bfcf_level0_col4\" class=\"col_heading level0 col4\" >CPF_CNPJ</th>\n",
       "      <th id=\"T_4bfcf_level0_col5\" class=\"col_heading level0 col5\" >NIV_DEP</th>\n",
       "      <th id=\"T_4bfcf_level0_col6\" class=\"col_heading level0 col6\" >CNPJ_MAN</th>\n",
       "      <th id=\"T_4bfcf_level0_col7\" class=\"col_heading level0 col7\" >ATIVIDAD</th>\n",
       "      <th id=\"T_4bfcf_level0_col8\" class=\"col_heading level0 col8\" >CLIENTEL</th>\n",
       "      <th id=\"T_4bfcf_level0_col9\" class=\"col_heading level0 col9\" >TP_UNID</th>\n",
       "      <th id=\"T_4bfcf_level0_col10\" class=\"col_heading level0 col10\" >TURNO_AT</th>\n",
       "      <th id=\"T_4bfcf_level0_col11\" class=\"col_heading level0 col11\" >TP_LEITO</th>\n",
       "      <th id=\"T_4bfcf_level0_col12\" class=\"col_heading level0 col12\" >CODLEITO</th>\n",
       "      <th id=\"T_4bfcf_level0_col13\" class=\"col_heading level0 col13\" >QT_EXIST</th>\n",
       "      <th id=\"T_4bfcf_level0_col14\" class=\"col_heading level0 col14\" >QT_CONTR</th>\n",
       "      <th id=\"T_4bfcf_level0_col15\" class=\"col_heading level0 col15\" >QT_SUS</th>\n",
       "      <th id=\"T_4bfcf_level0_col16\" class=\"col_heading level0 col16\" >QT_NSUS</th>\n",
       "      <th id=\"T_4bfcf_level0_col17\" class=\"col_heading level0 col17\" >COMPETEN</th>\n",
       "      <th id=\"T_4bfcf_level0_col18\" class=\"col_heading level0 col18\" >NAT_JUR</th>\n",
       "      <th id=\"T_4bfcf_level0_col19\" class=\"col_heading level0 col19\" >UF</th>\n",
       "      <th id=\"T_4bfcf_level0_col20\" class=\"col_heading level0 col20\" >REGSAUDE</th>\n",
       "      <th id=\"T_4bfcf_level0_col21\" class=\"col_heading level0 col21\" >MUNICIPIO</th>\n",
       "      <th id=\"T_4bfcf_level0_col22\" class=\"col_heading level0 col22\" >ANO</th>\n",
       "    </tr>\n",
       "  </thead>\n",
       "  <tbody>\n",
       "    <tr>\n",
       "      <th id=\"T_4bfcf_level0_row0\" class=\"row_heading level0 row0\" >0</th>\n",
       "      <td id=\"T_4bfcf_row0_col0\" class=\"data row0 col0\" >9331603</td>\n",
       "      <td id=\"T_4bfcf_row0_col1\" class=\"data row0 col1\" >520010</td>\n",
       "      <td id=\"T_4bfcf_row0_col2\" class=\"data row0 col2\" >M</td>\n",
       "      <td id=\"T_4bfcf_row0_col3\" class=\"data row0 col3\" >3</td>\n",
       "      <td id=\"T_4bfcf_row0_col4\" class=\"data row0 col4\" >0</td>\n",
       "      <td id=\"T_4bfcf_row0_col5\" class=\"data row0 col5\" >3</td>\n",
       "      <td id=\"T_4bfcf_row0_col6\" class=\"data row0 col6\" >1298330000178</td>\n",
       "      <td id=\"T_4bfcf_row0_col7\" class=\"data row0 col7\" >4</td>\n",
       "      <td id=\"T_4bfcf_row0_col8\" class=\"data row0 col8\" >3.000000</td>\n",
       "      <td id=\"T_4bfcf_row0_col9\" class=\"data row0 col9\" >15</td>\n",
       "      <td id=\"T_4bfcf_row0_col10\" class=\"data row0 col10\" >6</td>\n",
       "      <td id=\"T_4bfcf_row0_col11\" class=\"data row0 col11\" >2</td>\n",
       "      <td id=\"T_4bfcf_row0_col12\" class=\"data row0 col12\" >33</td>\n",
       "      <td id=\"T_4bfcf_row0_col13\" class=\"data row0 col13\" >9</td>\n",
       "      <td id=\"T_4bfcf_row0_col14\" class=\"data row0 col14\" >0</td>\n",
       "      <td id=\"T_4bfcf_row0_col15\" class=\"data row0 col15\" >9</td>\n",
       "      <td id=\"T_4bfcf_row0_col16\" class=\"data row0 col16\" >0</td>\n",
       "      <td id=\"T_4bfcf_row0_col17\" class=\"data row0 col17\" >2019-01-01 00:00:00</td>\n",
       "      <td id=\"T_4bfcf_row0_col18\" class=\"data row0 col18\" >1244</td>\n",
       "      <td id=\"T_4bfcf_row0_col19\" class=\"data row0 col19\" >GO</td>\n",
       "      <td id=\"T_4bfcf_row0_col20\" class=\"data row0 col20\" >Pirineus</td>\n",
       "      <td id=\"T_4bfcf_row0_col21\" class=\"data row0 col21\" >Abadiânia</td>\n",
       "      <td id=\"T_4bfcf_row0_col22\" class=\"data row0 col22\" >2019</td>\n",
       "    </tr>\n",
       "    <tr>\n",
       "      <th id=\"T_4bfcf_level0_row1\" class=\"row_heading level0 row1\" >27431</th>\n",
       "      <td id=\"T_4bfcf_row1_col0\" class=\"data row1 col0\" >2337576</td>\n",
       "      <td id=\"T_4bfcf_row1_col1\" class=\"data row1 col1\" >520540</td>\n",
       "      <td id=\"T_4bfcf_row1_col2\" class=\"data row1 col2\" >M</td>\n",
       "      <td id=\"T_4bfcf_row1_col3\" class=\"data row1 col3\" >3</td>\n",
       "      <td id=\"T_4bfcf_row1_col4\" class=\"data row1 col4\" >1381151000108</td>\n",
       "      <td id=\"T_4bfcf_row1_col5\" class=\"data row1 col5\" >1</td>\n",
       "      <td id=\"T_4bfcf_row1_col6\" class=\"data row1 col6\" >0</td>\n",
       "      <td id=\"T_4bfcf_row1_col7\" class=\"data row1 col7\" >4</td>\n",
       "      <td id=\"T_4bfcf_row1_col8\" class=\"data row1 col8\" >3.000000</td>\n",
       "      <td id=\"T_4bfcf_row1_col9\" class=\"data row1 col9\" >5</td>\n",
       "      <td id=\"T_4bfcf_row1_col10\" class=\"data row1 col10\" >6</td>\n",
       "      <td id=\"T_4bfcf_row1_col11\" class=\"data row1 col11\" >2</td>\n",
       "      <td id=\"T_4bfcf_row1_col12\" class=\"data row1 col12\" >87</td>\n",
       "      <td id=\"T_4bfcf_row1_col13\" class=\"data row1 col13\" >4</td>\n",
       "      <td id=\"T_4bfcf_row1_col14\" class=\"data row1 col14\" >0</td>\n",
       "      <td id=\"T_4bfcf_row1_col15\" class=\"data row1 col15\" >4</td>\n",
       "      <td id=\"T_4bfcf_row1_col16\" class=\"data row1 col16\" >0</td>\n",
       "      <td id=\"T_4bfcf_row1_col17\" class=\"data row1 col17\" >2021-10-01 00:00:00</td>\n",
       "      <td id=\"T_4bfcf_row1_col18\" class=\"data row1 col18\" >3999</td>\n",
       "      <td id=\"T_4bfcf_row1_col19\" class=\"data row1 col19\" >GO</td>\n",
       "      <td id=\"T_4bfcf_row1_col20\" class=\"data row1 col20\" >São Patrício</td>\n",
       "      <td id=\"T_4bfcf_row1_col21\" class=\"data row1 col21\" >Ceres</td>\n",
       "      <td id=\"T_4bfcf_row1_col22\" class=\"data row1 col22\" >2021</td>\n",
       "    </tr>\n",
       "    <tr>\n",
       "      <th id=\"T_4bfcf_level0_row2\" class=\"row_heading level0 row2\" >54862</th>\n",
       "      <td id=\"T_4bfcf_row2_col0\" class=\"data row2 col0\" >2338734</td>\n",
       "      <td id=\"T_4bfcf_row2_col1\" class=\"data row2 col1\" >520870</td>\n",
       "      <td id=\"T_4bfcf_row2_col2\" class=\"data row2 col2\" >M</td>\n",
       "      <td id=\"T_4bfcf_row2_col3\" class=\"data row2 col3\" >3</td>\n",
       "      <td id=\"T_4bfcf_row2_col4\" class=\"data row2 col4\" >0</td>\n",
       "      <td id=\"T_4bfcf_row2_col5\" class=\"data row2 col5\" >3</td>\n",
       "      <td id=\"T_4bfcf_row2_col6\" class=\"data row2 col6\" >2529964000157</td>\n",
       "      <td id=\"T_4bfcf_row2_col7\" class=\"data row2 col7\" >3</td>\n",
       "      <td id=\"T_4bfcf_row2_col8\" class=\"data row2 col8\" >2.000000</td>\n",
       "      <td id=\"T_4bfcf_row2_col9\" class=\"data row2 col9\" >5</td>\n",
       "      <td id=\"T_4bfcf_row2_col10\" class=\"data row2 col10\" >6</td>\n",
       "      <td id=\"T_4bfcf_row2_col11\" class=\"data row2 col11\" >1</td>\n",
       "      <td id=\"T_4bfcf_row2_col12\" class=\"data row2 col12\" >16</td>\n",
       "      <td id=\"T_4bfcf_row2_col13\" class=\"data row2 col13\" >3</td>\n",
       "      <td id=\"T_4bfcf_row2_col14\" class=\"data row2 col14\" >0</td>\n",
       "      <td id=\"T_4bfcf_row2_col15\" class=\"data row2 col15\" >3</td>\n",
       "      <td id=\"T_4bfcf_row2_col16\" class=\"data row2 col16\" >0</td>\n",
       "      <td id=\"T_4bfcf_row2_col17\" class=\"data row2 col17\" >2020-06-01 00:00:00</td>\n",
       "      <td id=\"T_4bfcf_row2_col18\" class=\"data row2 col18\" >1023</td>\n",
       "      <td id=\"T_4bfcf_row2_col19\" class=\"data row2 col19\" >GO</td>\n",
       "      <td id=\"T_4bfcf_row2_col20\" class=\"data row2 col20\" >Central</td>\n",
       "      <td id=\"T_4bfcf_row2_col21\" class=\"data row2 col21\" >Goiânia</td>\n",
       "      <td id=\"T_4bfcf_row2_col22\" class=\"data row2 col22\" >2020</td>\n",
       "    </tr>\n",
       "    <tr>\n",
       "      <th id=\"T_4bfcf_level0_row3\" class=\"row_heading level0 row3\" >82293</th>\n",
       "      <td id=\"T_4bfcf_row3_col0\" class=\"data row3 col0\" >2338351</td>\n",
       "      <td id=\"T_4bfcf_row3_col1\" class=\"data row3 col1\" >520870</td>\n",
       "      <td id=\"T_4bfcf_row3_col2\" class=\"data row3 col2\" >M</td>\n",
       "      <td id=\"T_4bfcf_row3_col3\" class=\"data row3 col3\" >3</td>\n",
       "      <td id=\"T_4bfcf_row3_col4\" class=\"data row3 col4\" >1619790000150</td>\n",
       "      <td id=\"T_4bfcf_row3_col5\" class=\"data row3 col5\" >1</td>\n",
       "      <td id=\"T_4bfcf_row3_col6\" class=\"data row3 col6\" >0</td>\n",
       "      <td id=\"T_4bfcf_row3_col7\" class=\"data row3 col7\" >5</td>\n",
       "      <td id=\"T_4bfcf_row3_col8\" class=\"data row3 col8\" >3.000000</td>\n",
       "      <td id=\"T_4bfcf_row3_col9\" class=\"data row3 col9\" >5</td>\n",
       "      <td id=\"T_4bfcf_row3_col10\" class=\"data row3 col10\" >6</td>\n",
       "      <td id=\"T_4bfcf_row3_col11\" class=\"data row3 col11\" >1</td>\n",
       "      <td id=\"T_4bfcf_row3_col12\" class=\"data row3 col12\" >1</td>\n",
       "      <td id=\"T_4bfcf_row3_col13\" class=\"data row3 col13\" >2</td>\n",
       "      <td id=\"T_4bfcf_row3_col14\" class=\"data row3 col14\" >0</td>\n",
       "      <td id=\"T_4bfcf_row3_col15\" class=\"data row3 col15\" >1</td>\n",
       "      <td id=\"T_4bfcf_row3_col16\" class=\"data row3 col16\" >1</td>\n",
       "      <td id=\"T_4bfcf_row3_col17\" class=\"data row3 col17\" >2022-11-01 00:00:00</td>\n",
       "      <td id=\"T_4bfcf_row3_col18\" class=\"data row3 col18\" >3999</td>\n",
       "      <td id=\"T_4bfcf_row3_col19\" class=\"data row3 col19\" >GO</td>\n",
       "      <td id=\"T_4bfcf_row3_col20\" class=\"data row3 col20\" >Central</td>\n",
       "      <td id=\"T_4bfcf_row3_col21\" class=\"data row3 col21\" >Goiânia</td>\n",
       "      <td id=\"T_4bfcf_row3_col22\" class=\"data row3 col22\" >2022</td>\n",
       "    </tr>\n",
       "    <tr>\n",
       "      <th id=\"T_4bfcf_level0_row4\" class=\"row_heading level0 row4\" >109724</th>\n",
       "      <td id=\"T_4bfcf_row4_col0\" class=\"data row4 col0\" >2437171</td>\n",
       "      <td id=\"T_4bfcf_row4_col1\" class=\"data row4 col1\" >521560</td>\n",
       "      <td id=\"T_4bfcf_row4_col2\" class=\"data row4 col2\" >M</td>\n",
       "      <td id=\"T_4bfcf_row4_col3\" class=\"data row4 col3\" >3</td>\n",
       "      <td id=\"T_4bfcf_row4_col4\" class=\"data row4 col4\" >0</td>\n",
       "      <td id=\"T_4bfcf_row4_col5\" class=\"data row4 col5\" >3</td>\n",
       "      <td id=\"T_4bfcf_row4_col6\" class=\"data row4 col6\" >1170331000132</td>\n",
       "      <td id=\"T_4bfcf_row4_col7\" class=\"data row4 col7\" >4</td>\n",
       "      <td id=\"T_4bfcf_row4_col8\" class=\"data row4 col8\" >3.000000</td>\n",
       "      <td id=\"T_4bfcf_row4_col9\" class=\"data row4 col9\" >5</td>\n",
       "      <td id=\"T_4bfcf_row4_col10\" class=\"data row4 col10\" >6</td>\n",
       "      <td id=\"T_4bfcf_row4_col11\" class=\"data row4 col11\" >4</td>\n",
       "      <td id=\"T_4bfcf_row4_col12\" class=\"data row4 col12\" >43</td>\n",
       "      <td id=\"T_4bfcf_row4_col13\" class=\"data row4 col13\" >3</td>\n",
       "      <td id=\"T_4bfcf_row4_col14\" class=\"data row4 col14\" >0</td>\n",
       "      <td id=\"T_4bfcf_row4_col15\" class=\"data row4 col15\" >3</td>\n",
       "      <td id=\"T_4bfcf_row4_col16\" class=\"data row4 col16\" >0</td>\n",
       "      <td id=\"T_4bfcf_row4_col17\" class=\"data row4 col17\" >2020-06-01 00:00:00</td>\n",
       "      <td id=\"T_4bfcf_row4_col18\" class=\"data row4 col18\" >1244</td>\n",
       "      <td id=\"T_4bfcf_row4_col19\" class=\"data row4 col19\" >GO</td>\n",
       "      <td id=\"T_4bfcf_row4_col20\" class=\"data row4 col20\" >Pirineus</td>\n",
       "      <td id=\"T_4bfcf_row4_col21\" class=\"data row4 col21\" >Padre Bernardo</td>\n",
       "      <td id=\"T_4bfcf_row4_col22\" class=\"data row4 col22\" >2020</td>\n",
       "    </tr>\n",
       "    <tr>\n",
       "      <th id=\"T_4bfcf_level0_row5\" class=\"row_heading level0 row5\" >137155</th>\n",
       "      <td id=\"T_4bfcf_row5_col0\" class=\"data row5 col0\" >2383462</td>\n",
       "      <td id=\"T_4bfcf_row5_col1\" class=\"data row5 col1\" >521523</td>\n",
       "      <td id=\"T_4bfcf_row5_col2\" class=\"data row5 col2\" >M</td>\n",
       "      <td id=\"T_4bfcf_row5_col3\" class=\"data row5 col3\" >3</td>\n",
       "      <td id=\"T_4bfcf_row5_col4\" class=\"data row5 col4\" >0</td>\n",
       "      <td id=\"T_4bfcf_row5_col5\" class=\"data row5 col5\" >3</td>\n",
       "      <td id=\"T_4bfcf_row5_col6\" class=\"data row5 col6\" >1629276000104</td>\n",
       "      <td id=\"T_4bfcf_row5_col7\" class=\"data row5 col7\" >4</td>\n",
       "      <td id=\"T_4bfcf_row5_col8\" class=\"data row5 col8\" >1.000000</td>\n",
       "      <td id=\"T_4bfcf_row5_col9\" class=\"data row5 col9\" >20</td>\n",
       "      <td id=\"T_4bfcf_row5_col10\" class=\"data row5 col10\" >6</td>\n",
       "      <td id=\"T_4bfcf_row5_col11\" class=\"data row5 col11\" >2</td>\n",
       "      <td id=\"T_4bfcf_row5_col12\" class=\"data row5 col12\" >33</td>\n",
       "      <td id=\"T_4bfcf_row5_col13\" class=\"data row5 col13\" >6</td>\n",
       "      <td id=\"T_4bfcf_row5_col14\" class=\"data row5 col14\" >0</td>\n",
       "      <td id=\"T_4bfcf_row5_col15\" class=\"data row5 col15\" >6</td>\n",
       "      <td id=\"T_4bfcf_row5_col16\" class=\"data row5 col16\" >0</td>\n",
       "      <td id=\"T_4bfcf_row5_col17\" class=\"data row5 col17\" >2022-03-01 00:00:00</td>\n",
       "      <td id=\"T_4bfcf_row5_col18\" class=\"data row5 col18\" >1244</td>\n",
       "      <td id=\"T_4bfcf_row5_col19\" class=\"data row5 col19\" >GO</td>\n",
       "      <td id=\"T_4bfcf_row5_col20\" class=\"data row5 col20\" >Entorno Sul</td>\n",
       "      <td id=\"T_4bfcf_row5_col21\" class=\"data row5 col21\" >Novo Gama</td>\n",
       "      <td id=\"T_4bfcf_row5_col22\" class=\"data row5 col22\" >2022</td>\n",
       "    </tr>\n",
       "  </tbody>\n",
       "</table>\n"
      ],
      "text/plain": [
       "<pandas.io.formats.style.Styler at 0x271fb7b3df0>"
      ]
     },
     "execution_count": 11,
     "metadata": {},
     "output_type": "execute_result"
    }
   ],
   "source": [
    "# Inserindo ANO para futuros merges com a base de dados de estimativa populacional.\n",
    "dataset['ANO'] = dataset['COMPETEN'].dt.year.astype(str)\n",
    "dataset[::27431].style # Visualizando uma amostra da base"
   ]
  },
  {
   "cell_type": "code",
   "execution_count": 12,
   "metadata": {},
   "outputs": [
    {
     "data": {
      "text/markdown": [
       "|Variable|Unique Values||\n",
       "|---|---|---|\n",
       "|CNES|558|\n",
       "|CODUFMUN|195|\n",
       "|TPGESTAO|3|M: 96.3\\% E: 3.5\\% D: 0.1\\%\n",
       "|PF_PJ|1|3: 100.0\\%\n",
       "|CPF_CNPJ|307|\n",
       "|NIV_DEP|2|1: 59.9\\% 3: 40.1\\%\n",
       "|CNPJ_MAN|194|\n",
       "|ATIVIDAD|5|4: 90.6\\% 3: 7.0\\% 5: 2.2\\% 2: 0.1\\% 1: 0.1\\%\n",
       "|CLIENTEL|3|3.0: 78.5\\% 1.0: 18.1\\% 2.0: 3.4\\%\n",
       "|TP_UNID|11|5: 84.7\\% 7: 10.5\\% 62: 1.4\\% 15: 1.3\\% 36: 0.8\\% 20: 0.6\\% 73: 0.3\\% 70: 0.2\\% 69: 0.2\\% 21: 0.0\\% 77: 0.0\\%\n",
       "|TURNO_AT|4|6: 85.5\\% 4: 7.1\\% 3: 6.3\\% 5: 1.1\\%\n",
       "|TP_LEITO|7|1: 32.7\\% 2: 24.1\\% 4: 16.2\\% 5: 10.9\\% 3: 10.7\\% 6: 3.7\\% 7: 1.8\\%\n",
       "|CODLEITO|67|\n",
       "|QT_EXIST|103|\n",
       "|QT_CONTR|1|0: 100.0\\%\n",
       "|QT_SUS|91|\n",
       "|QT_NSUS|73|\n",
       "|COMPETEN|47|\n",
       "|NAT_JUR|15|2062: 43.1\\% 1244: 31.2\\% 3999: 9.1\\% 1023: 5.4\\% 1031: 2.1\\% 2305: 1.8\\% 2135: 1.5\\% 2054: 1.4\\% 1104: 1.3\\% 2143: 0.9\\% 3069: 0.9\\% 2089: 0.4\\% 2240: 0.3\\% 1015: 0.2\\% 2232: 0.1\\%\n",
       "|UF|1|GO: 100.0\\%\n",
       "|REGSAUDE|16|Central: 36.1\\% São Patrício: 8.2\\% Sudoeste I: 7.8\\% Centro Sul: 7.2\\% Estrada de Ferro: 5.8\\% Pirineus: 5.3\\% Sul: 4.1\\% Rio Vermelho: 3.6\\% Sudoeste II: 3.6\\% Oeste I: 3.5\\% Norte: 3.1\\% Entorno Norte: 3.0\\% Entorno Sul: 2.9\\% Serra da Mesa: 2.3\\% Oeste II: 2.3\\% Nordeste: 1.2\\%\n",
       "|MUNICIPIO|195|\n",
       "|ANO|4|2021: 26.1\\% 2020: 25.2\\% 2019: 24.6\\% 2022: 24.1\\%\n"
      ],
      "text/plain": [
       "<IPython.core.display.Markdown object>"
      ]
     },
     "metadata": {},
     "output_type": "display_data"
    }
   ],
   "source": [
    "# Performando análise de valores únicos para as variáveis do dataset final.\n",
    "def unique_values_table(df, uv=3):\n",
    "    \"\"\"\n",
    "    Print a markdown table\n",
    "    with the col, the number of unique values and the unique values \n",
    "    list if there are more than 3 unique values (uv) by defalt.\n",
    "    \n",
    "    \"\"\"\n",
    "    from IPython.display import display, Markdown\n",
    "    md_table_str = '|Variable|Unique Values||\\n|---|---|---|\\n'\n",
    "    for col_name, unique_values in df.nunique().items():\n",
    "        if unique_values > uv:\n",
    "            md_table_str += '|{}|{}|\\n'.format(col_name, unique_values)\n",
    "        else:\n",
    "            md_unique_str = ' '.join([\n",
    "                f'{name}: {value*100:.1f}\\%'\n",
    "                for name, value in \n",
    "                df[col_name].value_counts(normalize=True).items()\n",
    "            ])\n",
    "\n",
    "            md_table_str += '|{}|{}|{}\\n'.format(\n",
    "                col_name, unique_values, md_unique_str)\n",
    "    display(Markdown(md_table_str))\n",
    "unique_values_table(dataset, uv=16)"
   ]
  },
  {
   "cell_type": "code",
   "execution_count": 13,
   "metadata": {},
   "outputs": [
    {
     "name": "stdout",
     "output_type": "stream",
     "text": [
      "<class 'pandas.core.frame.DataFrame'>\n",
      "RangeIndex: 984 entries, 0 to 983\n",
      "Data columns (total 3 columns):\n",
      " #   Column     Non-Null Count  Dtype \n",
      "---  ------     --------------  ----- \n",
      " 0   ANO        984 non-null    object\n",
      " 1   CODUFMUN   984 non-null    object\n",
      " 2   POPULACAO  984 non-null    int32 \n",
      "dtypes: int32(1), object(2)\n",
      "memory usage: 19.3+ KB\n"
     ]
    }
   ],
   "source": [
    "# Criando base de população estimada do Município de acordo com o CODUFMUN, ANO e População estimada que usam como fonte dados tratados da Base dos Dados e a Prévia do Censo de 2022 (Atualizada em 25/12/2022).\n",
    "# Base será utilizada para análises futuras de distribuição média per-capita de leitos municipal por ano.\n",
    "\n",
    "pop_mun_2022 = pd.read_excel('POP2022_Municipios.xls', header=1, dtype={'COD. UF': str, 'COD. MUNIC': str}) # Fonte: https://www.ibge.gov.br/estatisticas/sociais/populacao/22827?=&t=resultados com uma alteração para o município de Planaltina realizada no xls para retirar nota de rodapé da população estimada.\n",
    "pop_mun_2022 = pop_mun_2022.query(\"UF == 'GO'\").reset_index().drop(columns={'index'})\n",
    "pop_mun_2022['COD. MUNIC'] = [f\"{cod[:-1]}\" for cod in pop_mun_2022['COD. MUNIC']] # Configurando para o mesmo padrão da base do Datasus: Código do município do estabelecimento UF + MUNIC sem dígito\n",
    "pop_mun_2022['CODUFMUN'] = [f\"{uf}{mun}\" for uf,mun in zip(pop_mun_2022['COD. UF'],pop_mun_2022['COD. MUNIC'])]\n",
    "pop_mun_2022['ANO'] = '2022'\n",
    "pop_mun_2022 = pop_mun_2022.rename(columns={'POPULAÇÃO':'POPULACAO'})\n",
    "pop_mun_2022 = pop_mun_2022[['ANO', 'CODUFMUN', 'POPULACAO']]\n",
    "\n",
    "pop_mun = pd.read_csv('base_dos_dados_pop.csv', dtype={'id_municipio':str, 'ano':str}) # Fonte: Query no datalake da Base dos Dados (https://basedosdados.org/dataset/br-ibge-populacao?bdm_table=municipio)\n",
    "pop_mun['id_municipio'] = [f\"{cod[:-1]}\" for cod in pop_mun['id_municipio']] # Configurando para o mesmo padrão da base do Datasus: Código do município do estabelecimento UF + MUNIC sem dígito\n",
    "pop_mun = pop_mun.rename(columns={'id_municipio': 'CODUFMUN', 'ano':'ANO', 'populacao':'POPULACAO'})\n",
    "pop_mun = pop_mun[['ANO', 'CODUFMUN', 'POPULACAO']]\n",
    "pop_mun = pd.concat([pop_mun, pop_mun_2022], axis=0).sort_values(['CODUFMUN','ANO']).reset_index().drop(columns={'index'})\n",
    "pop_mun['POPULACAO'] = pop_mun['POPULACAO'].astype(int)\n",
    "pop_mun.info()"
   ]
  },
  {
   "cell_type": "code",
   "execution_count": 14,
   "metadata": {},
   "outputs": [
    {
     "data": {
      "text/markdown": [
       "|Variable|Unique Values||\n",
       "|---|---|---|\n",
       "|ANO|4|2019: 25.0\\% 2020: 25.0\\% 2021: 25.0\\% 2022: 25.0\\%\n",
       "|CODUFMUN|246|\n",
       "|POPULACAO|947|\n"
      ],
      "text/plain": [
       "<IPython.core.display.Markdown object>"
      ]
     },
     "metadata": {},
     "output_type": "display_data"
    }
   ],
   "source": [
    "# Performando análise de valores únicos para as variáveis do dataset de população estimada.\n",
    "unique_values_table(pop_mun, uv=4)"
   ]
  },
  {
   "attachments": {},
   "cell_type": "markdown",
   "metadata": {},
   "source": [
    "### <a> AED: Análises Gráficas </a>"
   ]
  },
  {
   "cell_type": "code",
   "execution_count": 31,
   "metadata": {},
   "outputs": [
    {
     "data": {
      "application/vnd.plotly.v1+json": {
       "config": {
        "plotlyServerURL": "https://plot.ly"
       },
       "data": [
        {
         "alignmentgroup": "True",
         "hovertemplate": "Tipo do Leito=UTI SRAG Covid-19 - Adulto <br>Data=%{x}<br>Leitos=%{y}<extra></extra>",
         "legendgroup": "UTI SRAG Covid-19 - Adulto ",
         "marker": {
          "color": "#636efa",
          "pattern": {
           "shape": ""
          }
         },
         "name": "UTI SRAG Covid-19 - Adulto ",
         "offsetgroup": "UTI SRAG Covid-19 - Adulto ",
         "orientation": "v",
         "showlegend": true,
         "textposition": "auto",
         "type": "bar",
         "x": [
          "2020-03-01T00:00:00",
          "2020-04-01T00:00:00",
          "2020-05-01T00:00:00",
          "2020-06-01T00:00:00",
          "2020-07-01T00:00:00",
          "2020-08-01T00:00:00",
          "2020-09-01T00:00:00",
          "2020-10-01T00:00:00",
          "2020-11-01T00:00:00",
          "2020-12-01T00:00:00",
          "2021-01-01T00:00:00",
          "2021-02-01T00:00:00",
          "2021-03-01T00:00:00",
          "2021-04-01T00:00:00",
          "2021-05-01T00:00:00",
          "2021-06-01T00:00:00",
          "2021-07-01T00:00:00",
          "2021-08-01T00:00:00",
          "2021-09-01T00:00:00",
          "2021-10-01T00:00:00",
          "2021-11-01T00:00:00",
          "2021-12-01T00:00:00",
          "2022-01-01T00:00:00",
          "2022-02-01T00:00:00",
          "2022-03-01T00:00:00",
          "2022-04-01T00:00:00",
          "2022-05-01T00:00:00",
          "2022-06-01T00:00:00",
          "2022-07-01T00:00:00"
         ],
         "xaxis": "x",
         "y": [
          106,
          269,
          289,
          440,
          555,
          592,
          693,
          693,
          699,
          709,
          744,
          989,
          1149,
          1211,
          1286,
          1300,
          1338,
          1362,
          1350,
          1354,
          1332,
          1327,
          1176,
          1076,
          709,
          632,
          592,
          60,
          50
         ],
         "yaxis": "y"
        },
        {
         "alignmentgroup": "True",
         "hovertemplate": "Tipo do Leito=UTI SRAG Covid-19 - Pediátrico<br>Data=%{x}<br>Leitos=%{y}<extra></extra>",
         "legendgroup": "UTI SRAG Covid-19 - Pediátrico",
         "marker": {
          "color": "#EF553B",
          "pattern": {
           "shape": ""
          }
         },
         "name": "UTI SRAG Covid-19 - Pediátrico",
         "offsetgroup": "UTI SRAG Covid-19 - Pediátrico",
         "orientation": "v",
         "showlegend": true,
         "textposition": "auto",
         "type": "bar",
         "x": [
          "2020-04-01T00:00:00",
          "2020-05-01T00:00:00",
          "2020-06-01T00:00:00",
          "2020-07-01T00:00:00",
          "2020-08-01T00:00:00",
          "2020-09-01T00:00:00",
          "2020-10-01T00:00:00",
          "2020-11-01T00:00:00",
          "2020-12-01T00:00:00",
          "2021-01-01T00:00:00",
          "2021-02-01T00:00:00",
          "2021-03-01T00:00:00",
          "2021-04-01T00:00:00",
          "2021-05-01T00:00:00",
          "2021-06-01T00:00:00",
          "2021-07-01T00:00:00",
          "2021-08-01T00:00:00",
          "2021-09-01T00:00:00",
          "2021-10-01T00:00:00",
          "2021-11-01T00:00:00",
          "2021-12-01T00:00:00",
          "2022-01-01T00:00:00",
          "2022-02-01T00:00:00",
          "2022-03-01T00:00:00",
          "2022-04-01T00:00:00",
          "2022-05-01T00:00:00"
         ],
         "xaxis": "x",
         "y": [
          20,
          20,
          20,
          20,
          20,
          20,
          20,
          20,
          20,
          20,
          10,
          13,
          13,
          13,
          13,
          13,
          13,
          10,
          10,
          10,
          10,
          31,
          41,
          41,
          21,
          21
         ],
         "yaxis": "y"
        },
        {
         "alignmentgroup": "True",
         "hovertemplate": "Tipo do Leito=Suporte Ventilatório Pulmonar - Covid-19<br>Data=%{x}<br>Leitos=%{y}<extra></extra>",
         "legendgroup": "Suporte Ventilatório Pulmonar - Covid-19",
         "marker": {
          "color": "#00cc96",
          "pattern": {
           "shape": ""
          }
         },
         "name": "Suporte Ventilatório Pulmonar - Covid-19",
         "offsetgroup": "Suporte Ventilatório Pulmonar - Covid-19",
         "orientation": "v",
         "showlegend": true,
         "textposition": "auto",
         "type": "bar",
         "x": [
          "2020-07-01T00:00:00",
          "2020-08-01T00:00:00",
          "2020-09-01T00:00:00",
          "2020-10-01T00:00:00",
          "2020-11-01T00:00:00",
          "2020-12-01T00:00:00",
          "2021-01-01T00:00:00",
          "2021-02-01T00:00:00",
          "2021-03-01T00:00:00",
          "2021-04-01T00:00:00",
          "2021-05-01T00:00:00",
          "2021-06-01T00:00:00",
          "2021-07-01T00:00:00",
          "2021-08-01T00:00:00",
          "2021-09-01T00:00:00",
          "2021-10-01T00:00:00",
          "2021-11-01T00:00:00",
          "2021-12-01T00:00:00",
          "2022-01-01T00:00:00",
          "2022-02-01T00:00:00",
          "2022-03-01T00:00:00",
          "2022-04-01T00:00:00",
          "2022-05-01T00:00:00",
          "2022-06-01T00:00:00",
          "2022-07-01T00:00:00"
         ],
         "xaxis": "x",
         "y": [
          90,
          126,
          143,
          147,
          111,
          151,
          155,
          224,
          359,
          405,
          448,
          501,
          499,
          509,
          497,
          499,
          479,
          490,
          475,
          475,
          434,
          412,
          409,
          7,
          7
         ],
         "yaxis": "y"
        }
       ],
       "layout": {
        "barmode": "relative",
        "legend": {
         "title": {
          "text": "Tipo do Leito"
         },
         "tracegroupgap": 0
        },
        "margin": {
         "t": 60
        },
        "template": {
         "data": {
          "bar": [
           {
            "error_x": {
             "color": "#2a3f5f"
            },
            "error_y": {
             "color": "#2a3f5f"
            },
            "marker": {
             "line": {
              "color": "#E5ECF6",
              "width": 0.5
             },
             "pattern": {
              "fillmode": "overlay",
              "size": 10,
              "solidity": 0.2
             }
            },
            "type": "bar"
           }
          ],
          "barpolar": [
           {
            "marker": {
             "line": {
              "color": "#E5ECF6",
              "width": 0.5
             },
             "pattern": {
              "fillmode": "overlay",
              "size": 10,
              "solidity": 0.2
             }
            },
            "type": "barpolar"
           }
          ],
          "carpet": [
           {
            "aaxis": {
             "endlinecolor": "#2a3f5f",
             "gridcolor": "white",
             "linecolor": "white",
             "minorgridcolor": "white",
             "startlinecolor": "#2a3f5f"
            },
            "baxis": {
             "endlinecolor": "#2a3f5f",
             "gridcolor": "white",
             "linecolor": "white",
             "minorgridcolor": "white",
             "startlinecolor": "#2a3f5f"
            },
            "type": "carpet"
           }
          ],
          "choropleth": [
           {
            "colorbar": {
             "outlinewidth": 0,
             "ticks": ""
            },
            "type": "choropleth"
           }
          ],
          "contour": [
           {
            "colorbar": {
             "outlinewidth": 0,
             "ticks": ""
            },
            "colorscale": [
             [
              0,
              "#0d0887"
             ],
             [
              0.1111111111111111,
              "#46039f"
             ],
             [
              0.2222222222222222,
              "#7201a8"
             ],
             [
              0.3333333333333333,
              "#9c179e"
             ],
             [
              0.4444444444444444,
              "#bd3786"
             ],
             [
              0.5555555555555556,
              "#d8576b"
             ],
             [
              0.6666666666666666,
              "#ed7953"
             ],
             [
              0.7777777777777778,
              "#fb9f3a"
             ],
             [
              0.8888888888888888,
              "#fdca26"
             ],
             [
              1,
              "#f0f921"
             ]
            ],
            "type": "contour"
           }
          ],
          "contourcarpet": [
           {
            "colorbar": {
             "outlinewidth": 0,
             "ticks": ""
            },
            "type": "contourcarpet"
           }
          ],
          "heatmap": [
           {
            "colorbar": {
             "outlinewidth": 0,
             "ticks": ""
            },
            "colorscale": [
             [
              0,
              "#0d0887"
             ],
             [
              0.1111111111111111,
              "#46039f"
             ],
             [
              0.2222222222222222,
              "#7201a8"
             ],
             [
              0.3333333333333333,
              "#9c179e"
             ],
             [
              0.4444444444444444,
              "#bd3786"
             ],
             [
              0.5555555555555556,
              "#d8576b"
             ],
             [
              0.6666666666666666,
              "#ed7953"
             ],
             [
              0.7777777777777778,
              "#fb9f3a"
             ],
             [
              0.8888888888888888,
              "#fdca26"
             ],
             [
              1,
              "#f0f921"
             ]
            ],
            "type": "heatmap"
           }
          ],
          "heatmapgl": [
           {
            "colorbar": {
             "outlinewidth": 0,
             "ticks": ""
            },
            "colorscale": [
             [
              0,
              "#0d0887"
             ],
             [
              0.1111111111111111,
              "#46039f"
             ],
             [
              0.2222222222222222,
              "#7201a8"
             ],
             [
              0.3333333333333333,
              "#9c179e"
             ],
             [
              0.4444444444444444,
              "#bd3786"
             ],
             [
              0.5555555555555556,
              "#d8576b"
             ],
             [
              0.6666666666666666,
              "#ed7953"
             ],
             [
              0.7777777777777778,
              "#fb9f3a"
             ],
             [
              0.8888888888888888,
              "#fdca26"
             ],
             [
              1,
              "#f0f921"
             ]
            ],
            "type": "heatmapgl"
           }
          ],
          "histogram": [
           {
            "marker": {
             "pattern": {
              "fillmode": "overlay",
              "size": 10,
              "solidity": 0.2
             }
            },
            "type": "histogram"
           }
          ],
          "histogram2d": [
           {
            "colorbar": {
             "outlinewidth": 0,
             "ticks": ""
            },
            "colorscale": [
             [
              0,
              "#0d0887"
             ],
             [
              0.1111111111111111,
              "#46039f"
             ],
             [
              0.2222222222222222,
              "#7201a8"
             ],
             [
              0.3333333333333333,
              "#9c179e"
             ],
             [
              0.4444444444444444,
              "#bd3786"
             ],
             [
              0.5555555555555556,
              "#d8576b"
             ],
             [
              0.6666666666666666,
              "#ed7953"
             ],
             [
              0.7777777777777778,
              "#fb9f3a"
             ],
             [
              0.8888888888888888,
              "#fdca26"
             ],
             [
              1,
              "#f0f921"
             ]
            ],
            "type": "histogram2d"
           }
          ],
          "histogram2dcontour": [
           {
            "colorbar": {
             "outlinewidth": 0,
             "ticks": ""
            },
            "colorscale": [
             [
              0,
              "#0d0887"
             ],
             [
              0.1111111111111111,
              "#46039f"
             ],
             [
              0.2222222222222222,
              "#7201a8"
             ],
             [
              0.3333333333333333,
              "#9c179e"
             ],
             [
              0.4444444444444444,
              "#bd3786"
             ],
             [
              0.5555555555555556,
              "#d8576b"
             ],
             [
              0.6666666666666666,
              "#ed7953"
             ],
             [
              0.7777777777777778,
              "#fb9f3a"
             ],
             [
              0.8888888888888888,
              "#fdca26"
             ],
             [
              1,
              "#f0f921"
             ]
            ],
            "type": "histogram2dcontour"
           }
          ],
          "mesh3d": [
           {
            "colorbar": {
             "outlinewidth": 0,
             "ticks": ""
            },
            "type": "mesh3d"
           }
          ],
          "parcoords": [
           {
            "line": {
             "colorbar": {
              "outlinewidth": 0,
              "ticks": ""
             }
            },
            "type": "parcoords"
           }
          ],
          "pie": [
           {
            "automargin": true,
            "type": "pie"
           }
          ],
          "scatter": [
           {
            "fillpattern": {
             "fillmode": "overlay",
             "size": 10,
             "solidity": 0.2
            },
            "type": "scatter"
           }
          ],
          "scatter3d": [
           {
            "line": {
             "colorbar": {
              "outlinewidth": 0,
              "ticks": ""
             }
            },
            "marker": {
             "colorbar": {
              "outlinewidth": 0,
              "ticks": ""
             }
            },
            "type": "scatter3d"
           }
          ],
          "scattercarpet": [
           {
            "marker": {
             "colorbar": {
              "outlinewidth": 0,
              "ticks": ""
             }
            },
            "type": "scattercarpet"
           }
          ],
          "scattergeo": [
           {
            "marker": {
             "colorbar": {
              "outlinewidth": 0,
              "ticks": ""
             }
            },
            "type": "scattergeo"
           }
          ],
          "scattergl": [
           {
            "marker": {
             "colorbar": {
              "outlinewidth": 0,
              "ticks": ""
             }
            },
            "type": "scattergl"
           }
          ],
          "scattermapbox": [
           {
            "marker": {
             "colorbar": {
              "outlinewidth": 0,
              "ticks": ""
             }
            },
            "type": "scattermapbox"
           }
          ],
          "scatterpolar": [
           {
            "marker": {
             "colorbar": {
              "outlinewidth": 0,
              "ticks": ""
             }
            },
            "type": "scatterpolar"
           }
          ],
          "scatterpolargl": [
           {
            "marker": {
             "colorbar": {
              "outlinewidth": 0,
              "ticks": ""
             }
            },
            "type": "scatterpolargl"
           }
          ],
          "scatterternary": [
           {
            "marker": {
             "colorbar": {
              "outlinewidth": 0,
              "ticks": ""
             }
            },
            "type": "scatterternary"
           }
          ],
          "surface": [
           {
            "colorbar": {
             "outlinewidth": 0,
             "ticks": ""
            },
            "colorscale": [
             [
              0,
              "#0d0887"
             ],
             [
              0.1111111111111111,
              "#46039f"
             ],
             [
              0.2222222222222222,
              "#7201a8"
             ],
             [
              0.3333333333333333,
              "#9c179e"
             ],
             [
              0.4444444444444444,
              "#bd3786"
             ],
             [
              0.5555555555555556,
              "#d8576b"
             ],
             [
              0.6666666666666666,
              "#ed7953"
             ],
             [
              0.7777777777777778,
              "#fb9f3a"
             ],
             [
              0.8888888888888888,
              "#fdca26"
             ],
             [
              1,
              "#f0f921"
             ]
            ],
            "type": "surface"
           }
          ],
          "table": [
           {
            "cells": {
             "fill": {
              "color": "#EBF0F8"
             },
             "line": {
              "color": "white"
             }
            },
            "header": {
             "fill": {
              "color": "#C8D4E3"
             },
             "line": {
              "color": "white"
             }
            },
            "type": "table"
           }
          ]
         },
         "layout": {
          "annotationdefaults": {
           "arrowcolor": "#2a3f5f",
           "arrowhead": 0,
           "arrowwidth": 1
          },
          "autotypenumbers": "strict",
          "coloraxis": {
           "colorbar": {
            "outlinewidth": 0,
            "ticks": ""
           }
          },
          "colorscale": {
           "diverging": [
            [
             0,
             "#8e0152"
            ],
            [
             0.1,
             "#c51b7d"
            ],
            [
             0.2,
             "#de77ae"
            ],
            [
             0.3,
             "#f1b6da"
            ],
            [
             0.4,
             "#fde0ef"
            ],
            [
             0.5,
             "#f7f7f7"
            ],
            [
             0.6,
             "#e6f5d0"
            ],
            [
             0.7,
             "#b8e186"
            ],
            [
             0.8,
             "#7fbc41"
            ],
            [
             0.9,
             "#4d9221"
            ],
            [
             1,
             "#276419"
            ]
           ],
           "sequential": [
            [
             0,
             "#0d0887"
            ],
            [
             0.1111111111111111,
             "#46039f"
            ],
            [
             0.2222222222222222,
             "#7201a8"
            ],
            [
             0.3333333333333333,
             "#9c179e"
            ],
            [
             0.4444444444444444,
             "#bd3786"
            ],
            [
             0.5555555555555556,
             "#d8576b"
            ],
            [
             0.6666666666666666,
             "#ed7953"
            ],
            [
             0.7777777777777778,
             "#fb9f3a"
            ],
            [
             0.8888888888888888,
             "#fdca26"
            ],
            [
             1,
             "#f0f921"
            ]
           ],
           "sequentialminus": [
            [
             0,
             "#0d0887"
            ],
            [
             0.1111111111111111,
             "#46039f"
            ],
            [
             0.2222222222222222,
             "#7201a8"
            ],
            [
             0.3333333333333333,
             "#9c179e"
            ],
            [
             0.4444444444444444,
             "#bd3786"
            ],
            [
             0.5555555555555556,
             "#d8576b"
            ],
            [
             0.6666666666666666,
             "#ed7953"
            ],
            [
             0.7777777777777778,
             "#fb9f3a"
            ],
            [
             0.8888888888888888,
             "#fdca26"
            ],
            [
             1,
             "#f0f921"
            ]
           ]
          },
          "colorway": [
           "#636efa",
           "#EF553B",
           "#00cc96",
           "#ab63fa",
           "#FFA15A",
           "#19d3f3",
           "#FF6692",
           "#B6E880",
           "#FF97FF",
           "#FECB52"
          ],
          "font": {
           "color": "#2a3f5f"
          },
          "geo": {
           "bgcolor": "white",
           "lakecolor": "white",
           "landcolor": "#E5ECF6",
           "showlakes": true,
           "showland": true,
           "subunitcolor": "white"
          },
          "hoverlabel": {
           "align": "left"
          },
          "hovermode": "closest",
          "mapbox": {
           "style": "light"
          },
          "paper_bgcolor": "white",
          "plot_bgcolor": "#E5ECF6",
          "polar": {
           "angularaxis": {
            "gridcolor": "white",
            "linecolor": "white",
            "ticks": ""
           },
           "bgcolor": "#E5ECF6",
           "radialaxis": {
            "gridcolor": "white",
            "linecolor": "white",
            "ticks": ""
           }
          },
          "scene": {
           "xaxis": {
            "backgroundcolor": "#E5ECF6",
            "gridcolor": "white",
            "gridwidth": 2,
            "linecolor": "white",
            "showbackground": true,
            "ticks": "",
            "zerolinecolor": "white"
           },
           "yaxis": {
            "backgroundcolor": "#E5ECF6",
            "gridcolor": "white",
            "gridwidth": 2,
            "linecolor": "white",
            "showbackground": true,
            "ticks": "",
            "zerolinecolor": "white"
           },
           "zaxis": {
            "backgroundcolor": "#E5ECF6",
            "gridcolor": "white",
            "gridwidth": 2,
            "linecolor": "white",
            "showbackground": true,
            "ticks": "",
            "zerolinecolor": "white"
           }
          },
          "shapedefaults": {
           "line": {
            "color": "#2a3f5f"
           }
          },
          "ternary": {
           "aaxis": {
            "gridcolor": "white",
            "linecolor": "white",
            "ticks": ""
           },
           "baxis": {
            "gridcolor": "white",
            "linecolor": "white",
            "ticks": ""
           },
           "bgcolor": "#E5ECF6",
           "caxis": {
            "gridcolor": "white",
            "linecolor": "white",
            "ticks": ""
           }
          },
          "title": {
           "x": 0.05
          },
          "xaxis": {
           "automargin": true,
           "gridcolor": "white",
           "linecolor": "white",
           "ticks": "",
           "title": {
            "standoff": 15
           },
           "zerolinecolor": "white",
           "zerolinewidth": 2
          },
          "yaxis": {
           "automargin": true,
           "gridcolor": "white",
           "linecolor": "white",
           "ticks": "",
           "title": {
            "standoff": 15
           },
           "zerolinecolor": "white",
           "zerolinewidth": 2
          }
         }
        },
        "title": {
         "text": "Evolução dos leitos exclusivos para Covid-19 no Estado de Goiás",
         "x": 0.5
        },
        "xaxis": {
         "anchor": "y",
         "domain": [
          0,
          1
         ],
         "title": {
          "text": "Data"
         }
        },
        "yaxis": {
         "anchor": "x",
         "domain": [
          0,
          1
         ],
         "title": {
          "text": "Leitos Covid-19 Existentes"
         }
        }
       }
      }
     },
     "metadata": {},
     "output_type": "display_data"
    }
   ],
   "source": [
    "# Nesta análise, verificaremos a progressão dos leitos tipo: 51, 52, 96, relacionados á Unidades de Tratamento Intensivo adulto e infantil, e suporte ventilatório pulmonar para Covid-19, respectivamente.\n",
    "dfg = dataset[['COMPETEN','QT_EXIST','CNES', 'CODLEITO']].groupby(by=['CNES', 'COMPETEN', 'CODLEITO']).sum().sort_values(by=['CNES','COMPETEN']).reset_index() # Agrupando os diferentes tipos de leito do mesmo estabelecimento por competência e tipo.\n",
    "dfg = dfg[dfg['CODLEITO'].isin([51, 52, 96])] # Filtrando os tipos de leito de interesse para a análise.\n",
    "dfg = dfg.groupby(by=['COMPETEN','CODLEITO']).sum().sort_values(by=['COMPETEN','CODLEITO']).reset_index().drop(columns={'CNES'}) # Somando os leitos Covid-19 de todos os estabelecimento de saúde de GO por data.\n",
    "dfg['CODLEITO'] = dfg['CODLEITO'].replace({51: 'UTI SRAG Covid-19 - Adulto ', 52 : 'UTI SRAG Covid-19 - Pediátrico', 96 : 'Suporte Ventilatório Pulmonar - Covid-19'})\n",
    "fig = px.bar(dfg, x='COMPETEN', y='QT_EXIST', color='CODLEITO',\n",
    "            labels={'COMPETEN': 'Data',\n",
    "                    'QT_EXIST': \"Leitos\",\n",
    "                    \"CODLEITO\": \"Tipo do Leito\"}).update_layout(\n",
    "    xaxis_title=\"Data\", yaxis_title=\"Leitos Covid-19 Existentes\", title=\"Evolução dos leitos exclusivos para Covid-19 no Estado de Goiás\", title_x=0.5) # Plotando gráfico de barras da Quantidade de Leitos Covid-19 existentes por ano. \n",
    "fig.show()\n",
    "del(dfg)"
   ]
  },
  {
   "cell_type": "code",
   "execution_count": 33,
   "metadata": {},
   "outputs": [
    {
     "data": {
      "application/vnd.plotly.v1+json": {
       "config": {
        "plotlyServerURL": "https://plot.ly"
       },
       "data": [
        {
         "alignmentgroup": "True",
         "hovertemplate": "Tipo do Leito=UTI SRAG Covid-19 - Adulto <br>Data=%{x}<br>Leitos=%{y}<extra></extra>",
         "legendgroup": "UTI SRAG Covid-19 - Adulto ",
         "marker": {
          "color": "#636efa",
          "pattern": {
           "shape": ""
          }
         },
         "name": "UTI SRAG Covid-19 - Adulto ",
         "offsetgroup": "UTI SRAG Covid-19 - Adulto ",
         "orientation": "v",
         "showlegend": true,
         "textposition": "auto",
         "type": "bar",
         "x": [
          "2020-03-01T00:00:00",
          "2020-04-01T00:00:00",
          "2020-05-01T00:00:00",
          "2020-06-01T00:00:00",
          "2020-07-01T00:00:00",
          "2020-08-01T00:00:00",
          "2020-09-01T00:00:00",
          "2020-10-01T00:00:00",
          "2020-11-01T00:00:00",
          "2020-12-01T00:00:00",
          "2021-01-01T00:00:00",
          "2021-02-01T00:00:00",
          "2021-03-01T00:00:00",
          "2021-04-01T00:00:00",
          "2021-05-01T00:00:00",
          "2021-06-01T00:00:00",
          "2021-07-01T00:00:00",
          "2021-08-01T00:00:00",
          "2021-09-01T00:00:00",
          "2021-10-01T00:00:00",
          "2021-11-01T00:00:00",
          "2021-12-01T00:00:00",
          "2022-01-01T00:00:00",
          "2022-02-01T00:00:00",
          "2022-03-01T00:00:00",
          "2022-04-01T00:00:00",
          "2022-05-01T00:00:00",
          "2022-06-01T00:00:00",
          "2022-07-01T00:00:00"
         ],
         "xaxis": "x",
         "y": [
          0,
          104,
          139,
          139,
          227,
          260,
          376,
          353,
          413,
          291,
          256,
          238,
          801,
          818,
          911,
          921,
          921,
          970,
          961,
          1006,
          872,
          600,
          511,
          396,
          0,
          0,
          0,
          0,
          0
         ],
         "yaxis": "y"
        },
        {
         "alignmentgroup": "True",
         "hovertemplate": "Tipo do Leito=UTI SRAG Covid-19 - Pediátrico<br>Data=%{x}<br>Leitos=%{y}<extra></extra>",
         "legendgroup": "UTI SRAG Covid-19 - Pediátrico",
         "marker": {
          "color": "#EF553B",
          "pattern": {
           "shape": ""
          }
         },
         "name": "UTI SRAG Covid-19 - Pediátrico",
         "offsetgroup": "UTI SRAG Covid-19 - Pediátrico",
         "orientation": "v",
         "showlegend": true,
         "textposition": "auto",
         "type": "bar",
         "x": [
          "2020-04-01T00:00:00",
          "2020-05-01T00:00:00",
          "2020-06-01T00:00:00",
          "2020-07-01T00:00:00",
          "2020-08-01T00:00:00",
          "2020-09-01T00:00:00",
          "2020-10-01T00:00:00",
          "2020-11-01T00:00:00",
          "2020-12-01T00:00:00",
          "2021-01-01T00:00:00",
          "2021-02-01T00:00:00",
          "2021-03-01T00:00:00",
          "2021-04-01T00:00:00",
          "2021-05-01T00:00:00",
          "2021-06-01T00:00:00",
          "2021-07-01T00:00:00",
          "2021-08-01T00:00:00",
          "2021-09-01T00:00:00",
          "2021-10-01T00:00:00",
          "2021-11-01T00:00:00",
          "2021-12-01T00:00:00",
          "2022-01-01T00:00:00",
          "2022-02-01T00:00:00",
          "2022-03-01T00:00:00",
          "2022-04-01T00:00:00",
          "2022-05-01T00:00:00"
         ],
         "xaxis": "x",
         "y": [
          0,
          0,
          0,
          0,
          0,
          0,
          0,
          0,
          0,
          0,
          0,
          0,
          0,
          0,
          0,
          0,
          0,
          0,
          0,
          0,
          0,
          0,
          0,
          0,
          0,
          0
         ],
         "yaxis": "y"
        },
        {
         "alignmentgroup": "True",
         "hovertemplate": "Tipo do Leito=Suporte Ventilatório Pulmonar - Covid-19<br>Data=%{x}<br>Leitos=%{y}<extra></extra>",
         "legendgroup": "Suporte Ventilatório Pulmonar - Covid-19",
         "marker": {
          "color": "#00cc96",
          "pattern": {
           "shape": ""
          }
         },
         "name": "Suporte Ventilatório Pulmonar - Covid-19",
         "offsetgroup": "Suporte Ventilatório Pulmonar - Covid-19",
         "orientation": "v",
         "showlegend": true,
         "textposition": "auto",
         "type": "bar",
         "x": [
          "2020-07-01T00:00:00",
          "2020-08-01T00:00:00",
          "2020-09-01T00:00:00",
          "2020-10-01T00:00:00",
          "2020-11-01T00:00:00",
          "2020-12-01T00:00:00",
          "2021-01-01T00:00:00",
          "2021-02-01T00:00:00",
          "2021-03-01T00:00:00",
          "2021-04-01T00:00:00",
          "2021-05-01T00:00:00",
          "2021-06-01T00:00:00",
          "2021-07-01T00:00:00",
          "2021-08-01T00:00:00",
          "2021-09-01T00:00:00",
          "2021-10-01T00:00:00",
          "2021-11-01T00:00:00",
          "2021-12-01T00:00:00",
          "2022-01-01T00:00:00",
          "2022-02-01T00:00:00",
          "2022-03-01T00:00:00",
          "2022-04-01T00:00:00",
          "2022-05-01T00:00:00",
          "2022-06-01T00:00:00",
          "2022-07-01T00:00:00"
         ],
         "xaxis": "x",
         "y": [
          0,
          0,
          42,
          26,
          30,
          8,
          14,
          14,
          26,
          10,
          19,
          72,
          76,
          170,
          184,
          196,
          200,
          200,
          0,
          0,
          0,
          0,
          0,
          0,
          0
         ],
         "yaxis": "y"
        }
       ],
       "layout": {
        "barmode": "relative",
        "legend": {
         "title": {
          "text": "Tipo do Leito"
         },
         "tracegroupgap": 0
        },
        "margin": {
         "t": 60
        },
        "template": {
         "data": {
          "bar": [
           {
            "error_x": {
             "color": "#2a3f5f"
            },
            "error_y": {
             "color": "#2a3f5f"
            },
            "marker": {
             "line": {
              "color": "#E5ECF6",
              "width": 0.5
             },
             "pattern": {
              "fillmode": "overlay",
              "size": 10,
              "solidity": 0.2
             }
            },
            "type": "bar"
           }
          ],
          "barpolar": [
           {
            "marker": {
             "line": {
              "color": "#E5ECF6",
              "width": 0.5
             },
             "pattern": {
              "fillmode": "overlay",
              "size": 10,
              "solidity": 0.2
             }
            },
            "type": "barpolar"
           }
          ],
          "carpet": [
           {
            "aaxis": {
             "endlinecolor": "#2a3f5f",
             "gridcolor": "white",
             "linecolor": "white",
             "minorgridcolor": "white",
             "startlinecolor": "#2a3f5f"
            },
            "baxis": {
             "endlinecolor": "#2a3f5f",
             "gridcolor": "white",
             "linecolor": "white",
             "minorgridcolor": "white",
             "startlinecolor": "#2a3f5f"
            },
            "type": "carpet"
           }
          ],
          "choropleth": [
           {
            "colorbar": {
             "outlinewidth": 0,
             "ticks": ""
            },
            "type": "choropleth"
           }
          ],
          "contour": [
           {
            "colorbar": {
             "outlinewidth": 0,
             "ticks": ""
            },
            "colorscale": [
             [
              0,
              "#0d0887"
             ],
             [
              0.1111111111111111,
              "#46039f"
             ],
             [
              0.2222222222222222,
              "#7201a8"
             ],
             [
              0.3333333333333333,
              "#9c179e"
             ],
             [
              0.4444444444444444,
              "#bd3786"
             ],
             [
              0.5555555555555556,
              "#d8576b"
             ],
             [
              0.6666666666666666,
              "#ed7953"
             ],
             [
              0.7777777777777778,
              "#fb9f3a"
             ],
             [
              0.8888888888888888,
              "#fdca26"
             ],
             [
              1,
              "#f0f921"
             ]
            ],
            "type": "contour"
           }
          ],
          "contourcarpet": [
           {
            "colorbar": {
             "outlinewidth": 0,
             "ticks": ""
            },
            "type": "contourcarpet"
           }
          ],
          "heatmap": [
           {
            "colorbar": {
             "outlinewidth": 0,
             "ticks": ""
            },
            "colorscale": [
             [
              0,
              "#0d0887"
             ],
             [
              0.1111111111111111,
              "#46039f"
             ],
             [
              0.2222222222222222,
              "#7201a8"
             ],
             [
              0.3333333333333333,
              "#9c179e"
             ],
             [
              0.4444444444444444,
              "#bd3786"
             ],
             [
              0.5555555555555556,
              "#d8576b"
             ],
             [
              0.6666666666666666,
              "#ed7953"
             ],
             [
              0.7777777777777778,
              "#fb9f3a"
             ],
             [
              0.8888888888888888,
              "#fdca26"
             ],
             [
              1,
              "#f0f921"
             ]
            ],
            "type": "heatmap"
           }
          ],
          "heatmapgl": [
           {
            "colorbar": {
             "outlinewidth": 0,
             "ticks": ""
            },
            "colorscale": [
             [
              0,
              "#0d0887"
             ],
             [
              0.1111111111111111,
              "#46039f"
             ],
             [
              0.2222222222222222,
              "#7201a8"
             ],
             [
              0.3333333333333333,
              "#9c179e"
             ],
             [
              0.4444444444444444,
              "#bd3786"
             ],
             [
              0.5555555555555556,
              "#d8576b"
             ],
             [
              0.6666666666666666,
              "#ed7953"
             ],
             [
              0.7777777777777778,
              "#fb9f3a"
             ],
             [
              0.8888888888888888,
              "#fdca26"
             ],
             [
              1,
              "#f0f921"
             ]
            ],
            "type": "heatmapgl"
           }
          ],
          "histogram": [
           {
            "marker": {
             "pattern": {
              "fillmode": "overlay",
              "size": 10,
              "solidity": 0.2
             }
            },
            "type": "histogram"
           }
          ],
          "histogram2d": [
           {
            "colorbar": {
             "outlinewidth": 0,
             "ticks": ""
            },
            "colorscale": [
             [
              0,
              "#0d0887"
             ],
             [
              0.1111111111111111,
              "#46039f"
             ],
             [
              0.2222222222222222,
              "#7201a8"
             ],
             [
              0.3333333333333333,
              "#9c179e"
             ],
             [
              0.4444444444444444,
              "#bd3786"
             ],
             [
              0.5555555555555556,
              "#d8576b"
             ],
             [
              0.6666666666666666,
              "#ed7953"
             ],
             [
              0.7777777777777778,
              "#fb9f3a"
             ],
             [
              0.8888888888888888,
              "#fdca26"
             ],
             [
              1,
              "#f0f921"
             ]
            ],
            "type": "histogram2d"
           }
          ],
          "histogram2dcontour": [
           {
            "colorbar": {
             "outlinewidth": 0,
             "ticks": ""
            },
            "colorscale": [
             [
              0,
              "#0d0887"
             ],
             [
              0.1111111111111111,
              "#46039f"
             ],
             [
              0.2222222222222222,
              "#7201a8"
             ],
             [
              0.3333333333333333,
              "#9c179e"
             ],
             [
              0.4444444444444444,
              "#bd3786"
             ],
             [
              0.5555555555555556,
              "#d8576b"
             ],
             [
              0.6666666666666666,
              "#ed7953"
             ],
             [
              0.7777777777777778,
              "#fb9f3a"
             ],
             [
              0.8888888888888888,
              "#fdca26"
             ],
             [
              1,
              "#f0f921"
             ]
            ],
            "type": "histogram2dcontour"
           }
          ],
          "mesh3d": [
           {
            "colorbar": {
             "outlinewidth": 0,
             "ticks": ""
            },
            "type": "mesh3d"
           }
          ],
          "parcoords": [
           {
            "line": {
             "colorbar": {
              "outlinewidth": 0,
              "ticks": ""
             }
            },
            "type": "parcoords"
           }
          ],
          "pie": [
           {
            "automargin": true,
            "type": "pie"
           }
          ],
          "scatter": [
           {
            "fillpattern": {
             "fillmode": "overlay",
             "size": 10,
             "solidity": 0.2
            },
            "type": "scatter"
           }
          ],
          "scatter3d": [
           {
            "line": {
             "colorbar": {
              "outlinewidth": 0,
              "ticks": ""
             }
            },
            "marker": {
             "colorbar": {
              "outlinewidth": 0,
              "ticks": ""
             }
            },
            "type": "scatter3d"
           }
          ],
          "scattercarpet": [
           {
            "marker": {
             "colorbar": {
              "outlinewidth": 0,
              "ticks": ""
             }
            },
            "type": "scattercarpet"
           }
          ],
          "scattergeo": [
           {
            "marker": {
             "colorbar": {
              "outlinewidth": 0,
              "ticks": ""
             }
            },
            "type": "scattergeo"
           }
          ],
          "scattergl": [
           {
            "marker": {
             "colorbar": {
              "outlinewidth": 0,
              "ticks": ""
             }
            },
            "type": "scattergl"
           }
          ],
          "scattermapbox": [
           {
            "marker": {
             "colorbar": {
              "outlinewidth": 0,
              "ticks": ""
             }
            },
            "type": "scattermapbox"
           }
          ],
          "scatterpolar": [
           {
            "marker": {
             "colorbar": {
              "outlinewidth": 0,
              "ticks": ""
             }
            },
            "type": "scatterpolar"
           }
          ],
          "scatterpolargl": [
           {
            "marker": {
             "colorbar": {
              "outlinewidth": 0,
              "ticks": ""
             }
            },
            "type": "scatterpolargl"
           }
          ],
          "scatterternary": [
           {
            "marker": {
             "colorbar": {
              "outlinewidth": 0,
              "ticks": ""
             }
            },
            "type": "scatterternary"
           }
          ],
          "surface": [
           {
            "colorbar": {
             "outlinewidth": 0,
             "ticks": ""
            },
            "colorscale": [
             [
              0,
              "#0d0887"
             ],
             [
              0.1111111111111111,
              "#46039f"
             ],
             [
              0.2222222222222222,
              "#7201a8"
             ],
             [
              0.3333333333333333,
              "#9c179e"
             ],
             [
              0.4444444444444444,
              "#bd3786"
             ],
             [
              0.5555555555555556,
              "#d8576b"
             ],
             [
              0.6666666666666666,
              "#ed7953"
             ],
             [
              0.7777777777777778,
              "#fb9f3a"
             ],
             [
              0.8888888888888888,
              "#fdca26"
             ],
             [
              1,
              "#f0f921"
             ]
            ],
            "type": "surface"
           }
          ],
          "table": [
           {
            "cells": {
             "fill": {
              "color": "#EBF0F8"
             },
             "line": {
              "color": "white"
             }
            },
            "header": {
             "fill": {
              "color": "#C8D4E3"
             },
             "line": {
              "color": "white"
             }
            },
            "type": "table"
           }
          ]
         },
         "layout": {
          "annotationdefaults": {
           "arrowcolor": "#2a3f5f",
           "arrowhead": 0,
           "arrowwidth": 1
          },
          "autotypenumbers": "strict",
          "coloraxis": {
           "colorbar": {
            "outlinewidth": 0,
            "ticks": ""
           }
          },
          "colorscale": {
           "diverging": [
            [
             0,
             "#8e0152"
            ],
            [
             0.1,
             "#c51b7d"
            ],
            [
             0.2,
             "#de77ae"
            ],
            [
             0.3,
             "#f1b6da"
            ],
            [
             0.4,
             "#fde0ef"
            ],
            [
             0.5,
             "#f7f7f7"
            ],
            [
             0.6,
             "#e6f5d0"
            ],
            [
             0.7,
             "#b8e186"
            ],
            [
             0.8,
             "#7fbc41"
            ],
            [
             0.9,
             "#4d9221"
            ],
            [
             1,
             "#276419"
            ]
           ],
           "sequential": [
            [
             0,
             "#0d0887"
            ],
            [
             0.1111111111111111,
             "#46039f"
            ],
            [
             0.2222222222222222,
             "#7201a8"
            ],
            [
             0.3333333333333333,
             "#9c179e"
            ],
            [
             0.4444444444444444,
             "#bd3786"
            ],
            [
             0.5555555555555556,
             "#d8576b"
            ],
            [
             0.6666666666666666,
             "#ed7953"
            ],
            [
             0.7777777777777778,
             "#fb9f3a"
            ],
            [
             0.8888888888888888,
             "#fdca26"
            ],
            [
             1,
             "#f0f921"
            ]
           ],
           "sequentialminus": [
            [
             0,
             "#0d0887"
            ],
            [
             0.1111111111111111,
             "#46039f"
            ],
            [
             0.2222222222222222,
             "#7201a8"
            ],
            [
             0.3333333333333333,
             "#9c179e"
            ],
            [
             0.4444444444444444,
             "#bd3786"
            ],
            [
             0.5555555555555556,
             "#d8576b"
            ],
            [
             0.6666666666666666,
             "#ed7953"
            ],
            [
             0.7777777777777778,
             "#fb9f3a"
            ],
            [
             0.8888888888888888,
             "#fdca26"
            ],
            [
             1,
             "#f0f921"
            ]
           ]
          },
          "colorway": [
           "#636efa",
           "#EF553B",
           "#00cc96",
           "#ab63fa",
           "#FFA15A",
           "#19d3f3",
           "#FF6692",
           "#B6E880",
           "#FF97FF",
           "#FECB52"
          ],
          "font": {
           "color": "#2a3f5f"
          },
          "geo": {
           "bgcolor": "white",
           "lakecolor": "white",
           "landcolor": "#E5ECF6",
           "showlakes": true,
           "showland": true,
           "subunitcolor": "white"
          },
          "hoverlabel": {
           "align": "left"
          },
          "hovermode": "closest",
          "mapbox": {
           "style": "light"
          },
          "paper_bgcolor": "white",
          "plot_bgcolor": "#E5ECF6",
          "polar": {
           "angularaxis": {
            "gridcolor": "white",
            "linecolor": "white",
            "ticks": ""
           },
           "bgcolor": "#E5ECF6",
           "radialaxis": {
            "gridcolor": "white",
            "linecolor": "white",
            "ticks": ""
           }
          },
          "scene": {
           "xaxis": {
            "backgroundcolor": "#E5ECF6",
            "gridcolor": "white",
            "gridwidth": 2,
            "linecolor": "white",
            "showbackground": true,
            "ticks": "",
            "zerolinecolor": "white"
           },
           "yaxis": {
            "backgroundcolor": "#E5ECF6",
            "gridcolor": "white",
            "gridwidth": 2,
            "linecolor": "white",
            "showbackground": true,
            "ticks": "",
            "zerolinecolor": "white"
           },
           "zaxis": {
            "backgroundcolor": "#E5ECF6",
            "gridcolor": "white",
            "gridwidth": 2,
            "linecolor": "white",
            "showbackground": true,
            "ticks": "",
            "zerolinecolor": "white"
           }
          },
          "shapedefaults": {
           "line": {
            "color": "#2a3f5f"
           }
          },
          "ternary": {
           "aaxis": {
            "gridcolor": "white",
            "linecolor": "white",
            "ticks": ""
           },
           "baxis": {
            "gridcolor": "white",
            "linecolor": "white",
            "ticks": ""
           },
           "bgcolor": "#E5ECF6",
           "caxis": {
            "gridcolor": "white",
            "linecolor": "white",
            "ticks": ""
           }
          },
          "title": {
           "x": 0.05
          },
          "xaxis": {
           "automargin": true,
           "gridcolor": "white",
           "linecolor": "white",
           "ticks": "",
           "title": {
            "standoff": 15
           },
           "zerolinecolor": "white",
           "zerolinewidth": 2
          },
          "yaxis": {
           "automargin": true,
           "gridcolor": "white",
           "linecolor": "white",
           "ticks": "",
           "title": {
            "standoff": 15
           },
           "zerolinecolor": "white",
           "zerolinewidth": 2
          }
         }
        },
        "title": {
         "text": "Evolução dos leitos exclusivos para Covid-19 disponibilizados para o SUS no Estado de Goiás",
         "x": 0.5
        },
        "xaxis": {
         "anchor": "y",
         "domain": [
          0,
          1
         ],
         "title": {
          "text": "Data"
         }
        },
        "yaxis": {
         "anchor": "x",
         "domain": [
          0,
          1
         ],
         "title": {
          "text": "Leitos Covid-19 SUS"
         }
        }
       }
      }
     },
     "metadata": {},
     "output_type": "display_data"
    }
   ],
   "source": [
    "# Nesta análise, verificaremos a progressão dos leitos disponibilizados para o SUS do tipo: 51, 52, 96, relacionados á Unidades de Tratamento Intensivo adulto e infantil, e suporte ventilatório pulmonar para Covid-19, respectivamente.\n",
    "dfg = dataset[['COMPETEN','QT_SUS','CNES', 'CODLEITO']].groupby(by=['CNES', 'COMPETEN', 'CODLEITO']).sum().sort_values(by=['CNES','COMPETEN']).reset_index()\n",
    "dfg = dfg[dfg['CODLEITO'].isin([51, 52, 96])] # Filtrando os tipos de leito de interesse para a análise.\n",
    "dfg = dfg.groupby(by=['COMPETEN','CODLEITO']).sum().sort_values(by=['COMPETEN','CODLEITO']).reset_index().drop(columns={'CNES'}) \n",
    "dfg['CODLEITO'] = dfg['CODLEITO'].replace({51: 'UTI SRAG Covid-19 - Adulto ', 52 : 'UTI SRAG Covid-19 - Pediátrico', 96 : 'Suporte Ventilatório Pulmonar - Covid-19'})\n",
    "fig = px.bar(dfg, x='COMPETEN', y='QT_SUS', color='CODLEITO',\n",
    "            labels={'COMPETEN': 'Data',\n",
    "                    'QT_SUS': \"Leitos\",\n",
    "                    \"CODLEITO\": \"Tipo do Leito\"}).update_layout(\n",
    "    xaxis_title=\"Data\", yaxis_title=\"Leitos Covid-19 SUS\", title=\"Evolução dos leitos exclusivos para Covid-19 disponibilizados para o SUS no Estado de Goiás\", title_x=0.5)\n",
    "fig.show()\n",
    "del(dfg)"
   ]
  },
  {
   "cell_type": "code",
   "execution_count": 50,
   "metadata": {},
   "outputs": [
    {
     "data": {
      "application/vnd.plotly.v1+json": {
       "config": {
        "plotlyServerURL": "https://plot.ly"
       },
       "data": [
        {
         "alignmentgroup": "True",
         "hovertemplate": "Tipo do Leito=UTI ADULTO - TIPO I, II ou III<br>Data=%{x}<br>Leitos=%{y}<extra></extra>",
         "legendgroup": "UTI ADULTO - TIPO I, II ou III",
         "marker": {
          "color": "#636efa",
          "pattern": {
           "shape": ""
          }
         },
         "name": "UTI ADULTO - TIPO I, II ou III",
         "offsetgroup": "UTI ADULTO - TIPO I, II ou III",
         "orientation": "v",
         "showlegend": true,
         "textposition": "auto",
         "type": "bar",
         "x": [
          "2019-01-01T00:00:00",
          "2019-01-01T00:00:00",
          "2019-01-01T00:00:00",
          "2019-02-01T00:00:00",
          "2019-02-01T00:00:00",
          "2019-02-01T00:00:00",
          "2019-03-01T00:00:00",
          "2019-03-01T00:00:00",
          "2019-03-01T00:00:00",
          "2019-04-01T00:00:00",
          "2019-04-01T00:00:00",
          "2019-04-01T00:00:00",
          "2019-05-01T00:00:00",
          "2019-05-01T00:00:00",
          "2019-05-01T00:00:00",
          "2019-06-01T00:00:00",
          "2019-06-01T00:00:00",
          "2019-06-01T00:00:00",
          "2019-07-01T00:00:00",
          "2019-07-01T00:00:00",
          "2019-07-01T00:00:00",
          "2019-08-01T00:00:00",
          "2019-08-01T00:00:00",
          "2019-08-01T00:00:00",
          "2019-09-01T00:00:00",
          "2019-09-01T00:00:00",
          "2019-09-01T00:00:00",
          "2019-10-01T00:00:00",
          "2019-10-01T00:00:00",
          "2019-10-01T00:00:00",
          "2019-11-01T00:00:00",
          "2019-11-01T00:00:00",
          "2019-11-01T00:00:00",
          "2019-12-01T00:00:00",
          "2019-12-01T00:00:00",
          "2019-12-01T00:00:00",
          "2020-01-01T00:00:00",
          "2020-01-01T00:00:00",
          "2020-01-01T00:00:00",
          "2020-02-01T00:00:00",
          "2020-02-01T00:00:00",
          "2020-02-01T00:00:00",
          "2020-03-01T00:00:00",
          "2020-03-01T00:00:00",
          "2020-03-01T00:00:00",
          "2020-04-01T00:00:00",
          "2020-04-01T00:00:00",
          "2020-04-01T00:00:00",
          "2020-05-01T00:00:00",
          "2020-05-01T00:00:00",
          "2020-05-01T00:00:00",
          "2020-06-01T00:00:00",
          "2020-06-01T00:00:00",
          "2020-06-01T00:00:00",
          "2020-07-01T00:00:00",
          "2020-07-01T00:00:00",
          "2020-07-01T00:00:00",
          "2020-08-01T00:00:00",
          "2020-08-01T00:00:00",
          "2020-08-01T00:00:00",
          "2020-09-01T00:00:00",
          "2020-09-01T00:00:00",
          "2020-09-01T00:00:00",
          "2020-10-01T00:00:00",
          "2020-10-01T00:00:00",
          "2020-10-01T00:00:00",
          "2020-11-01T00:00:00",
          "2020-11-01T00:00:00",
          "2020-11-01T00:00:00",
          "2020-12-01T00:00:00",
          "2020-12-01T00:00:00",
          "2020-12-01T00:00:00",
          "2021-01-01T00:00:00",
          "2021-01-01T00:00:00",
          "2021-01-01T00:00:00",
          "2021-02-01T00:00:00",
          "2021-02-01T00:00:00",
          "2021-02-01T00:00:00",
          "2021-03-01T00:00:00",
          "2021-03-01T00:00:00",
          "2021-03-01T00:00:00",
          "2021-04-01T00:00:00",
          "2021-04-01T00:00:00",
          "2021-04-01T00:00:00",
          "2021-05-01T00:00:00",
          "2021-05-01T00:00:00",
          "2021-05-01T00:00:00",
          "2021-06-01T00:00:00",
          "2021-06-01T00:00:00",
          "2021-06-01T00:00:00",
          "2021-07-01T00:00:00",
          "2021-07-01T00:00:00",
          "2021-07-01T00:00:00",
          "2021-08-01T00:00:00",
          "2021-08-01T00:00:00",
          "2021-08-01T00:00:00",
          "2021-09-01T00:00:00",
          "2021-09-01T00:00:00",
          "2021-09-01T00:00:00",
          "2021-10-01T00:00:00",
          "2021-10-01T00:00:00",
          "2021-10-01T00:00:00",
          "2021-11-01T00:00:00",
          "2021-11-01T00:00:00",
          "2021-11-01T00:00:00",
          "2021-12-01T00:00:00",
          "2021-12-01T00:00:00",
          "2021-12-01T00:00:00",
          "2022-01-01T00:00:00",
          "2022-01-01T00:00:00",
          "2022-01-01T00:00:00",
          "2022-02-01T00:00:00",
          "2022-02-01T00:00:00",
          "2022-02-01T00:00:00",
          "2022-03-01T00:00:00",
          "2022-03-01T00:00:00",
          "2022-03-01T00:00:00",
          "2022-04-01T00:00:00",
          "2022-04-01T00:00:00",
          "2022-04-01T00:00:00",
          "2022-05-01T00:00:00",
          "2022-05-01T00:00:00",
          "2022-05-01T00:00:00",
          "2022-06-01T00:00:00",
          "2022-06-01T00:00:00",
          "2022-06-01T00:00:00",
          "2022-07-01T00:00:00",
          "2022-07-01T00:00:00",
          "2022-07-01T00:00:00",
          "2022-08-01T00:00:00",
          "2022-08-01T00:00:00",
          "2022-08-01T00:00:00",
          "2022-09-01T00:00:00",
          "2022-09-01T00:00:00",
          "2022-09-01T00:00:00",
          "2022-10-01T00:00:00",
          "2022-10-01T00:00:00",
          "2022-10-01T00:00:00",
          "2022-11-01T00:00:00",
          "2022-11-01T00:00:00",
          "2022-11-01T00:00:00"
         ],
         "xaxis": "x",
         "y": [
          139,
          867,
          19,
          139,
          867,
          19,
          167,
          867,
          19,
          167,
          867,
          19,
          167,
          857,
          19,
          167,
          846,
          19,
          167,
          847,
          19,
          167,
          835,
          19,
          167,
          835,
          19,
          167,
          798,
          19,
          167,
          822,
          19,
          167,
          822,
          19,
          166,
          868,
          19,
          166,
          868,
          19,
          166,
          984,
          19,
          166,
          863,
          19,
          166,
          863,
          19,
          166,
          873,
          19,
          158,
          875,
          19,
          158,
          875,
          19,
          158,
          875,
          19,
          158,
          887,
          19,
          158,
          887,
          19,
          158,
          889,
          19,
          158,
          899,
          19,
          158,
          905,
          19,
          158,
          911,
          10,
          176,
          923,
          10,
          176,
          932,
          10,
          176,
          932,
          10,
          176,
          945,
          10,
          185,
          950,
          10,
          185,
          950,
          10,
          213,
          980,
          10,
          213,
          1040,
          10,
          213,
          1055,
          10,
          223,
          1115,
          10,
          223,
          1095,
          10,
          227,
          1192,
          11,
          227,
          1204,
          11,
          227,
          1208,
          11,
          227,
          1259,
          11,
          227,
          1268,
          11,
          230,
          1274,
          11,
          230,
          1288,
          11,
          230,
          1283,
          11,
          230,
          1283,
          11
         ],
         "yaxis": "y"
        },
        {
         "alignmentgroup": "True",
         "hovertemplate": "Tipo do Leito=UTI PEDIATRICA - TIPO I ou II<br>Data=%{x}<br>Leitos=%{y}<extra></extra>",
         "legendgroup": "UTI PEDIATRICA - TIPO I ou II",
         "marker": {
          "color": "#EF553B",
          "pattern": {
           "shape": ""
          }
         },
         "name": "UTI PEDIATRICA - TIPO I ou II",
         "offsetgroup": "UTI PEDIATRICA - TIPO I ou II",
         "orientation": "v",
         "showlegend": true,
         "textposition": "auto",
         "type": "bar",
         "x": [
          "2019-01-01T00:00:00",
          "2019-01-01T00:00:00",
          "2019-02-01T00:00:00",
          "2019-02-01T00:00:00",
          "2019-03-01T00:00:00",
          "2019-03-01T00:00:00",
          "2019-04-01T00:00:00",
          "2019-04-01T00:00:00",
          "2019-05-01T00:00:00",
          "2019-05-01T00:00:00",
          "2019-06-01T00:00:00",
          "2019-06-01T00:00:00",
          "2019-07-01T00:00:00",
          "2019-07-01T00:00:00",
          "2019-08-01T00:00:00",
          "2019-08-01T00:00:00",
          "2019-09-01T00:00:00",
          "2019-09-01T00:00:00",
          "2019-10-01T00:00:00",
          "2019-10-01T00:00:00",
          "2019-11-01T00:00:00",
          "2019-11-01T00:00:00",
          "2019-12-01T00:00:00",
          "2019-12-01T00:00:00",
          "2020-01-01T00:00:00",
          "2020-01-01T00:00:00",
          "2020-02-01T00:00:00",
          "2020-02-01T00:00:00",
          "2020-03-01T00:00:00",
          "2020-03-01T00:00:00",
          "2020-04-01T00:00:00",
          "2020-04-01T00:00:00",
          "2020-05-01T00:00:00",
          "2020-05-01T00:00:00",
          "2020-06-01T00:00:00",
          "2020-06-01T00:00:00",
          "2020-07-01T00:00:00",
          "2020-07-01T00:00:00",
          "2020-08-01T00:00:00",
          "2020-08-01T00:00:00",
          "2020-09-01T00:00:00",
          "2020-09-01T00:00:00",
          "2020-10-01T00:00:00",
          "2020-10-01T00:00:00",
          "2020-11-01T00:00:00",
          "2020-11-01T00:00:00",
          "2020-12-01T00:00:00",
          "2020-12-01T00:00:00",
          "2021-01-01T00:00:00",
          "2021-01-01T00:00:00",
          "2021-02-01T00:00:00",
          "2021-02-01T00:00:00",
          "2021-03-01T00:00:00",
          "2021-03-01T00:00:00",
          "2021-04-01T00:00:00",
          "2021-04-01T00:00:00",
          "2021-05-01T00:00:00",
          "2021-05-01T00:00:00",
          "2021-06-01T00:00:00",
          "2021-06-01T00:00:00",
          "2021-07-01T00:00:00",
          "2021-07-01T00:00:00",
          "2021-08-01T00:00:00",
          "2021-08-01T00:00:00",
          "2021-09-01T00:00:00",
          "2021-09-01T00:00:00",
          "2021-10-01T00:00:00",
          "2021-10-01T00:00:00",
          "2021-11-01T00:00:00",
          "2021-11-01T00:00:00",
          "2021-12-01T00:00:00",
          "2021-12-01T00:00:00",
          "2022-01-01T00:00:00",
          "2022-01-01T00:00:00",
          "2022-02-01T00:00:00",
          "2022-02-01T00:00:00",
          "2022-03-01T00:00:00",
          "2022-03-01T00:00:00",
          "2022-04-01T00:00:00",
          "2022-04-01T00:00:00",
          "2022-05-01T00:00:00",
          "2022-05-01T00:00:00",
          "2022-06-01T00:00:00",
          "2022-06-01T00:00:00",
          "2022-07-01T00:00:00",
          "2022-07-01T00:00:00",
          "2022-08-01T00:00:00",
          "2022-08-01T00:00:00",
          "2022-09-01T00:00:00",
          "2022-09-01T00:00:00",
          "2022-10-01T00:00:00",
          "2022-10-01T00:00:00",
          "2022-11-01T00:00:00",
          "2022-11-01T00:00:00"
         ],
         "xaxis": "x",
         "y": [
          15,
          113,
          15,
          107,
          15,
          113,
          15,
          113,
          15,
          113,
          25,
          113,
          25,
          113,
          15,
          123,
          15,
          123,
          15,
          130,
          15,
          140,
          15,
          140,
          15,
          140,
          15,
          140,
          15,
          150,
          15,
          140,
          15,
          140,
          15,
          140,
          15,
          137,
          15,
          137,
          15,
          137,
          15,
          137,
          15,
          137,
          15,
          137,
          15,
          137,
          15,
          137,
          15,
          137,
          15,
          137,
          15,
          131,
          15,
          131,
          15,
          137,
          15,
          137,
          15,
          137,
          15,
          137,
          20,
          137,
          20,
          137,
          20,
          165,
          20,
          157,
          20,
          173,
          20,
          173,
          20,
          173,
          20,
          184,
          20,
          184,
          20,
          182,
          20,
          192,
          20,
          191,
          20,
          191
         ],
         "yaxis": "y"
        },
        {
         "alignmentgroup": "True",
         "hovertemplate": "Tipo do Leito=UTI NEONATAL - TIPO I, II ou III<br>Data=%{x}<br>Leitos=%{y}<extra></extra>",
         "legendgroup": "UTI NEONATAL - TIPO I, II ou III",
         "marker": {
          "color": "#00cc96",
          "pattern": {
           "shape": ""
          }
         },
         "name": "UTI NEONATAL - TIPO I, II ou III",
         "offsetgroup": "UTI NEONATAL - TIPO I, II ou III",
         "orientation": "v",
         "showlegend": true,
         "textposition": "auto",
         "type": "bar",
         "x": [
          "2019-01-01T00:00:00",
          "2019-01-01T00:00:00",
          "2019-01-01T00:00:00",
          "2019-02-01T00:00:00",
          "2019-02-01T00:00:00",
          "2019-02-01T00:00:00",
          "2019-03-01T00:00:00",
          "2019-03-01T00:00:00",
          "2019-03-01T00:00:00",
          "2019-04-01T00:00:00",
          "2019-04-01T00:00:00",
          "2019-04-01T00:00:00",
          "2019-05-01T00:00:00",
          "2019-05-01T00:00:00",
          "2019-05-01T00:00:00",
          "2019-06-01T00:00:00",
          "2019-06-01T00:00:00",
          "2019-06-01T00:00:00",
          "2019-07-01T00:00:00",
          "2019-07-01T00:00:00",
          "2019-07-01T00:00:00",
          "2019-08-01T00:00:00",
          "2019-08-01T00:00:00",
          "2019-08-01T00:00:00",
          "2019-09-01T00:00:00",
          "2019-09-01T00:00:00",
          "2019-09-01T00:00:00",
          "2019-10-01T00:00:00",
          "2019-10-01T00:00:00",
          "2019-10-01T00:00:00",
          "2019-11-01T00:00:00",
          "2019-11-01T00:00:00",
          "2019-11-01T00:00:00",
          "2019-12-01T00:00:00",
          "2019-12-01T00:00:00",
          "2019-12-01T00:00:00",
          "2020-01-01T00:00:00",
          "2020-01-01T00:00:00",
          "2020-01-01T00:00:00",
          "2020-02-01T00:00:00",
          "2020-02-01T00:00:00",
          "2020-02-01T00:00:00",
          "2020-03-01T00:00:00",
          "2020-03-01T00:00:00",
          "2020-03-01T00:00:00",
          "2020-04-01T00:00:00",
          "2020-04-01T00:00:00",
          "2020-04-01T00:00:00",
          "2020-05-01T00:00:00",
          "2020-05-01T00:00:00",
          "2020-05-01T00:00:00",
          "2020-06-01T00:00:00",
          "2020-06-01T00:00:00",
          "2020-06-01T00:00:00",
          "2020-07-01T00:00:00",
          "2020-07-01T00:00:00",
          "2020-07-01T00:00:00",
          "2020-08-01T00:00:00",
          "2020-08-01T00:00:00",
          "2020-08-01T00:00:00",
          "2020-09-01T00:00:00",
          "2020-09-01T00:00:00",
          "2020-09-01T00:00:00",
          "2020-10-01T00:00:00",
          "2020-10-01T00:00:00",
          "2020-10-01T00:00:00",
          "2020-11-01T00:00:00",
          "2020-11-01T00:00:00",
          "2020-11-01T00:00:00",
          "2020-12-01T00:00:00",
          "2020-12-01T00:00:00",
          "2020-12-01T00:00:00",
          "2021-01-01T00:00:00",
          "2021-01-01T00:00:00",
          "2021-01-01T00:00:00",
          "2021-02-01T00:00:00",
          "2021-02-01T00:00:00",
          "2021-02-01T00:00:00",
          "2021-03-01T00:00:00",
          "2021-03-01T00:00:00",
          "2021-03-01T00:00:00",
          "2021-04-01T00:00:00",
          "2021-04-01T00:00:00",
          "2021-04-01T00:00:00",
          "2021-05-01T00:00:00",
          "2021-05-01T00:00:00",
          "2021-05-01T00:00:00",
          "2021-06-01T00:00:00",
          "2021-06-01T00:00:00",
          "2021-06-01T00:00:00",
          "2021-07-01T00:00:00",
          "2021-07-01T00:00:00",
          "2021-07-01T00:00:00",
          "2021-08-01T00:00:00",
          "2021-08-01T00:00:00",
          "2021-08-01T00:00:00",
          "2021-09-01T00:00:00",
          "2021-09-01T00:00:00",
          "2021-09-01T00:00:00",
          "2021-10-01T00:00:00",
          "2021-10-01T00:00:00",
          "2021-10-01T00:00:00",
          "2021-11-01T00:00:00",
          "2021-11-01T00:00:00",
          "2021-11-01T00:00:00",
          "2021-12-01T00:00:00",
          "2021-12-01T00:00:00",
          "2021-12-01T00:00:00",
          "2022-01-01T00:00:00",
          "2022-01-01T00:00:00",
          "2022-01-01T00:00:00",
          "2022-02-01T00:00:00",
          "2022-02-01T00:00:00",
          "2022-02-01T00:00:00",
          "2022-03-01T00:00:00",
          "2022-03-01T00:00:00",
          "2022-03-01T00:00:00",
          "2022-04-01T00:00:00",
          "2022-04-01T00:00:00",
          "2022-04-01T00:00:00",
          "2022-05-01T00:00:00",
          "2022-05-01T00:00:00",
          "2022-05-01T00:00:00",
          "2022-06-01T00:00:00",
          "2022-06-01T00:00:00",
          "2022-06-01T00:00:00",
          "2022-07-01T00:00:00",
          "2022-07-01T00:00:00",
          "2022-07-01T00:00:00",
          "2022-08-01T00:00:00",
          "2022-08-01T00:00:00",
          "2022-08-01T00:00:00",
          "2022-09-01T00:00:00",
          "2022-09-01T00:00:00",
          "2022-09-01T00:00:00",
          "2022-10-01T00:00:00",
          "2022-10-01T00:00:00",
          "2022-10-01T00:00:00",
          "2022-11-01T00:00:00",
          "2022-11-01T00:00:00",
          "2022-11-01T00:00:00"
         ],
         "xaxis": "x",
         "y": [
          22,
          204,
          10,
          22,
          204,
          10,
          22,
          204,
          10,
          22,
          204,
          10,
          22,
          204,
          10,
          22,
          204,
          10,
          22,
          204,
          10,
          22,
          204,
          10,
          22,
          204,
          10,
          22,
          214,
          10,
          22,
          224,
          10,
          22,
          224,
          10,
          22,
          224,
          20,
          22,
          224,
          20,
          22,
          234,
          20,
          22,
          234,
          20,
          22,
          234,
          20,
          22,
          234,
          20,
          22,
          234,
          20,
          22,
          234,
          20,
          22,
          234,
          20,
          22,
          234,
          20,
          22,
          234,
          20,
          22,
          234,
          20,
          22,
          234,
          20,
          22,
          234,
          20,
          22,
          239,
          20,
          22,
          239,
          20,
          22,
          239,
          20,
          22,
          239,
          20,
          26,
          239,
          20,
          26,
          239,
          20,
          26,
          239,
          20,
          26,
          254,
          20,
          31,
          254,
          20,
          31,
          252,
          20,
          31,
          252,
          20,
          31,
          252,
          20,
          31,
          242,
          20,
          31,
          242,
          20,
          31,
          232,
          20,
          31,
          232,
          20,
          31,
          261,
          20,
          31,
          263,
          20,
          31,
          263,
          20,
          31,
          263,
          20,
          31,
          263,
          20
         ],
         "yaxis": "y"
        },
        {
         "alignmentgroup": "True",
         "hovertemplate": "Tipo do Leito=UTI DE QUEIMADOS<br>Data=%{x}<br>Leitos=%{y}<extra></extra>",
         "legendgroup": "UTI DE QUEIMADOS",
         "marker": {
          "color": "#ab63fa",
          "pattern": {
           "shape": ""
          }
         },
         "name": "UTI DE QUEIMADOS",
         "offsetgroup": "UTI DE QUEIMADOS",
         "orientation": "v",
         "showlegend": true,
         "textposition": "auto",
         "type": "bar",
         "x": [
          "2019-01-01T00:00:00",
          "2019-02-01T00:00:00",
          "2019-03-01T00:00:00",
          "2019-04-01T00:00:00",
          "2019-05-01T00:00:00",
          "2019-06-01T00:00:00",
          "2019-07-01T00:00:00",
          "2019-08-01T00:00:00",
          "2019-09-01T00:00:00",
          "2019-10-01T00:00:00",
          "2019-11-01T00:00:00",
          "2019-12-01T00:00:00",
          "2020-01-01T00:00:00",
          "2020-02-01T00:00:00",
          "2020-03-01T00:00:00",
          "2020-04-01T00:00:00",
          "2020-05-01T00:00:00",
          "2020-06-01T00:00:00",
          "2020-07-01T00:00:00",
          "2020-08-01T00:00:00",
          "2020-09-01T00:00:00",
          "2020-10-01T00:00:00",
          "2020-11-01T00:00:00",
          "2020-12-01T00:00:00",
          "2021-01-01T00:00:00",
          "2021-02-01T00:00:00",
          "2021-03-01T00:00:00",
          "2021-04-01T00:00:00",
          "2021-05-01T00:00:00",
          "2021-06-01T00:00:00",
          "2021-07-01T00:00:00",
          "2021-08-01T00:00:00",
          "2021-09-01T00:00:00",
          "2021-10-01T00:00:00",
          "2021-11-01T00:00:00",
          "2021-12-01T00:00:00",
          "2022-01-01T00:00:00",
          "2022-02-01T00:00:00",
          "2022-03-01T00:00:00",
          "2022-04-01T00:00:00",
          "2022-05-01T00:00:00",
          "2022-06-01T00:00:00",
          "2022-07-01T00:00:00",
          "2022-08-01T00:00:00",
          "2022-09-01T00:00:00",
          "2022-10-01T00:00:00",
          "2022-11-01T00:00:00"
         ],
         "xaxis": "x",
         "y": [
          18,
          18,
          18,
          18,
          18,
          18,
          18,
          18,
          18,
          18,
          18,
          18,
          18,
          18,
          18,
          18,
          18,
          18,
          18,
          18,
          18,
          18,
          18,
          18,
          18,
          18,
          18,
          18,
          18,
          18,
          18,
          18,
          18,
          18,
          18,
          18,
          18,
          18,
          18,
          18,
          18,
          18,
          18,
          18,
          18,
          16,
          16
         ],
         "yaxis": "y"
        },
        {
         "alignmentgroup": "True",
         "hovertemplate": "Tipo do Leito=UTI CORONARIANA TIPO II ou III<br>Data=%{x}<br>Leitos=%{y}<extra></extra>",
         "legendgroup": "UTI CORONARIANA TIPO II ou III",
         "marker": {
          "color": "#FFA15A",
          "pattern": {
           "shape": ""
          }
         },
         "name": "UTI CORONARIANA TIPO II ou III",
         "offsetgroup": "UTI CORONARIANA TIPO II ou III",
         "orientation": "v",
         "showlegend": true,
         "textposition": "auto",
         "type": "bar",
         "x": [
          "2019-01-01T00:00:00",
          "2019-02-01T00:00:00",
          "2019-03-01T00:00:00",
          "2019-04-01T00:00:00",
          "2019-05-01T00:00:00",
          "2019-06-01T00:00:00",
          "2019-07-01T00:00:00",
          "2019-08-01T00:00:00",
          "2019-09-01T00:00:00",
          "2019-10-01T00:00:00",
          "2019-11-01T00:00:00",
          "2019-12-01T00:00:00",
          "2020-01-01T00:00:00",
          "2020-02-01T00:00:00",
          "2020-03-01T00:00:00",
          "2020-04-01T00:00:00",
          "2020-05-01T00:00:00",
          "2020-06-01T00:00:00",
          "2020-07-01T00:00:00",
          "2020-08-01T00:00:00",
          "2020-09-01T00:00:00",
          "2020-10-01T00:00:00",
          "2020-11-01T00:00:00",
          "2020-12-01T00:00:00",
          "2021-01-01T00:00:00",
          "2021-02-01T00:00:00",
          "2021-03-01T00:00:00",
          "2021-04-01T00:00:00",
          "2021-05-01T00:00:00",
          "2021-06-01T00:00:00",
          "2021-07-01T00:00:00",
          "2021-08-01T00:00:00",
          "2021-09-01T00:00:00",
          "2021-10-01T00:00:00",
          "2021-11-01T00:00:00",
          "2021-12-01T00:00:00",
          "2022-01-01T00:00:00",
          "2022-02-01T00:00:00",
          "2022-03-01T00:00:00",
          "2022-04-01T00:00:00",
          "2022-05-01T00:00:00",
          "2022-05-01T00:00:00",
          "2022-06-01T00:00:00",
          "2022-06-01T00:00:00",
          "2022-07-01T00:00:00",
          "2022-07-01T00:00:00",
          "2022-08-01T00:00:00",
          "2022-08-01T00:00:00",
          "2022-09-01T00:00:00",
          "2022-09-01T00:00:00",
          "2022-10-01T00:00:00",
          "2022-10-01T00:00:00",
          "2022-11-01T00:00:00",
          "2022-11-01T00:00:00"
         ],
         "xaxis": "x",
         "y": [
          27,
          27,
          27,
          27,
          27,
          27,
          27,
          27,
          27,
          20,
          20,
          20,
          20,
          24,
          24,
          24,
          24,
          24,
          24,
          24,
          24,
          24,
          24,
          17,
          17,
          17,
          17,
          17,
          31,
          31,
          31,
          31,
          31,
          31,
          31,
          31,
          31,
          31,
          31,
          31,
          31,
          10,
          31,
          10,
          31,
          10,
          55,
          10,
          32,
          10,
          32,
          10,
          32,
          10
         ],
         "yaxis": "y"
        }
       ],
       "layout": {
        "barmode": "relative",
        "legend": {
         "title": {
          "text": "Tipo do Leito"
         },
         "tracegroupgap": 0
        },
        "margin": {
         "t": 60
        },
        "template": {
         "data": {
          "bar": [
           {
            "error_x": {
             "color": "#2a3f5f"
            },
            "error_y": {
             "color": "#2a3f5f"
            },
            "marker": {
             "line": {
              "color": "#E5ECF6",
              "width": 0.5
             },
             "pattern": {
              "fillmode": "overlay",
              "size": 10,
              "solidity": 0.2
             }
            },
            "type": "bar"
           }
          ],
          "barpolar": [
           {
            "marker": {
             "line": {
              "color": "#E5ECF6",
              "width": 0.5
             },
             "pattern": {
              "fillmode": "overlay",
              "size": 10,
              "solidity": 0.2
             }
            },
            "type": "barpolar"
           }
          ],
          "carpet": [
           {
            "aaxis": {
             "endlinecolor": "#2a3f5f",
             "gridcolor": "white",
             "linecolor": "white",
             "minorgridcolor": "white",
             "startlinecolor": "#2a3f5f"
            },
            "baxis": {
             "endlinecolor": "#2a3f5f",
             "gridcolor": "white",
             "linecolor": "white",
             "minorgridcolor": "white",
             "startlinecolor": "#2a3f5f"
            },
            "type": "carpet"
           }
          ],
          "choropleth": [
           {
            "colorbar": {
             "outlinewidth": 0,
             "ticks": ""
            },
            "type": "choropleth"
           }
          ],
          "contour": [
           {
            "colorbar": {
             "outlinewidth": 0,
             "ticks": ""
            },
            "colorscale": [
             [
              0,
              "#0d0887"
             ],
             [
              0.1111111111111111,
              "#46039f"
             ],
             [
              0.2222222222222222,
              "#7201a8"
             ],
             [
              0.3333333333333333,
              "#9c179e"
             ],
             [
              0.4444444444444444,
              "#bd3786"
             ],
             [
              0.5555555555555556,
              "#d8576b"
             ],
             [
              0.6666666666666666,
              "#ed7953"
             ],
             [
              0.7777777777777778,
              "#fb9f3a"
             ],
             [
              0.8888888888888888,
              "#fdca26"
             ],
             [
              1,
              "#f0f921"
             ]
            ],
            "type": "contour"
           }
          ],
          "contourcarpet": [
           {
            "colorbar": {
             "outlinewidth": 0,
             "ticks": ""
            },
            "type": "contourcarpet"
           }
          ],
          "heatmap": [
           {
            "colorbar": {
             "outlinewidth": 0,
             "ticks": ""
            },
            "colorscale": [
             [
              0,
              "#0d0887"
             ],
             [
              0.1111111111111111,
              "#46039f"
             ],
             [
              0.2222222222222222,
              "#7201a8"
             ],
             [
              0.3333333333333333,
              "#9c179e"
             ],
             [
              0.4444444444444444,
              "#bd3786"
             ],
             [
              0.5555555555555556,
              "#d8576b"
             ],
             [
              0.6666666666666666,
              "#ed7953"
             ],
             [
              0.7777777777777778,
              "#fb9f3a"
             ],
             [
              0.8888888888888888,
              "#fdca26"
             ],
             [
              1,
              "#f0f921"
             ]
            ],
            "type": "heatmap"
           }
          ],
          "heatmapgl": [
           {
            "colorbar": {
             "outlinewidth": 0,
             "ticks": ""
            },
            "colorscale": [
             [
              0,
              "#0d0887"
             ],
             [
              0.1111111111111111,
              "#46039f"
             ],
             [
              0.2222222222222222,
              "#7201a8"
             ],
             [
              0.3333333333333333,
              "#9c179e"
             ],
             [
              0.4444444444444444,
              "#bd3786"
             ],
             [
              0.5555555555555556,
              "#d8576b"
             ],
             [
              0.6666666666666666,
              "#ed7953"
             ],
             [
              0.7777777777777778,
              "#fb9f3a"
             ],
             [
              0.8888888888888888,
              "#fdca26"
             ],
             [
              1,
              "#f0f921"
             ]
            ],
            "type": "heatmapgl"
           }
          ],
          "histogram": [
           {
            "marker": {
             "pattern": {
              "fillmode": "overlay",
              "size": 10,
              "solidity": 0.2
             }
            },
            "type": "histogram"
           }
          ],
          "histogram2d": [
           {
            "colorbar": {
             "outlinewidth": 0,
             "ticks": ""
            },
            "colorscale": [
             [
              0,
              "#0d0887"
             ],
             [
              0.1111111111111111,
              "#46039f"
             ],
             [
              0.2222222222222222,
              "#7201a8"
             ],
             [
              0.3333333333333333,
              "#9c179e"
             ],
             [
              0.4444444444444444,
              "#bd3786"
             ],
             [
              0.5555555555555556,
              "#d8576b"
             ],
             [
              0.6666666666666666,
              "#ed7953"
             ],
             [
              0.7777777777777778,
              "#fb9f3a"
             ],
             [
              0.8888888888888888,
              "#fdca26"
             ],
             [
              1,
              "#f0f921"
             ]
            ],
            "type": "histogram2d"
           }
          ],
          "histogram2dcontour": [
           {
            "colorbar": {
             "outlinewidth": 0,
             "ticks": ""
            },
            "colorscale": [
             [
              0,
              "#0d0887"
             ],
             [
              0.1111111111111111,
              "#46039f"
             ],
             [
              0.2222222222222222,
              "#7201a8"
             ],
             [
              0.3333333333333333,
              "#9c179e"
             ],
             [
              0.4444444444444444,
              "#bd3786"
             ],
             [
              0.5555555555555556,
              "#d8576b"
             ],
             [
              0.6666666666666666,
              "#ed7953"
             ],
             [
              0.7777777777777778,
              "#fb9f3a"
             ],
             [
              0.8888888888888888,
              "#fdca26"
             ],
             [
              1,
              "#f0f921"
             ]
            ],
            "type": "histogram2dcontour"
           }
          ],
          "mesh3d": [
           {
            "colorbar": {
             "outlinewidth": 0,
             "ticks": ""
            },
            "type": "mesh3d"
           }
          ],
          "parcoords": [
           {
            "line": {
             "colorbar": {
              "outlinewidth": 0,
              "ticks": ""
             }
            },
            "type": "parcoords"
           }
          ],
          "pie": [
           {
            "automargin": true,
            "type": "pie"
           }
          ],
          "scatter": [
           {
            "fillpattern": {
             "fillmode": "overlay",
             "size": 10,
             "solidity": 0.2
            },
            "type": "scatter"
           }
          ],
          "scatter3d": [
           {
            "line": {
             "colorbar": {
              "outlinewidth": 0,
              "ticks": ""
             }
            },
            "marker": {
             "colorbar": {
              "outlinewidth": 0,
              "ticks": ""
             }
            },
            "type": "scatter3d"
           }
          ],
          "scattercarpet": [
           {
            "marker": {
             "colorbar": {
              "outlinewidth": 0,
              "ticks": ""
             }
            },
            "type": "scattercarpet"
           }
          ],
          "scattergeo": [
           {
            "marker": {
             "colorbar": {
              "outlinewidth": 0,
              "ticks": ""
             }
            },
            "type": "scattergeo"
           }
          ],
          "scattergl": [
           {
            "marker": {
             "colorbar": {
              "outlinewidth": 0,
              "ticks": ""
             }
            },
            "type": "scattergl"
           }
          ],
          "scattermapbox": [
           {
            "marker": {
             "colorbar": {
              "outlinewidth": 0,
              "ticks": ""
             }
            },
            "type": "scattermapbox"
           }
          ],
          "scatterpolar": [
           {
            "marker": {
             "colorbar": {
              "outlinewidth": 0,
              "ticks": ""
             }
            },
            "type": "scatterpolar"
           }
          ],
          "scatterpolargl": [
           {
            "marker": {
             "colorbar": {
              "outlinewidth": 0,
              "ticks": ""
             }
            },
            "type": "scatterpolargl"
           }
          ],
          "scatterternary": [
           {
            "marker": {
             "colorbar": {
              "outlinewidth": 0,
              "ticks": ""
             }
            },
            "type": "scatterternary"
           }
          ],
          "surface": [
           {
            "colorbar": {
             "outlinewidth": 0,
             "ticks": ""
            },
            "colorscale": [
             [
              0,
              "#0d0887"
             ],
             [
              0.1111111111111111,
              "#46039f"
             ],
             [
              0.2222222222222222,
              "#7201a8"
             ],
             [
              0.3333333333333333,
              "#9c179e"
             ],
             [
              0.4444444444444444,
              "#bd3786"
             ],
             [
              0.5555555555555556,
              "#d8576b"
             ],
             [
              0.6666666666666666,
              "#ed7953"
             ],
             [
              0.7777777777777778,
              "#fb9f3a"
             ],
             [
              0.8888888888888888,
              "#fdca26"
             ],
             [
              1,
              "#f0f921"
             ]
            ],
            "type": "surface"
           }
          ],
          "table": [
           {
            "cells": {
             "fill": {
              "color": "#EBF0F8"
             },
             "line": {
              "color": "white"
             }
            },
            "header": {
             "fill": {
              "color": "#C8D4E3"
             },
             "line": {
              "color": "white"
             }
            },
            "type": "table"
           }
          ]
         },
         "layout": {
          "annotationdefaults": {
           "arrowcolor": "#2a3f5f",
           "arrowhead": 0,
           "arrowwidth": 1
          },
          "autotypenumbers": "strict",
          "coloraxis": {
           "colorbar": {
            "outlinewidth": 0,
            "ticks": ""
           }
          },
          "colorscale": {
           "diverging": [
            [
             0,
             "#8e0152"
            ],
            [
             0.1,
             "#c51b7d"
            ],
            [
             0.2,
             "#de77ae"
            ],
            [
             0.3,
             "#f1b6da"
            ],
            [
             0.4,
             "#fde0ef"
            ],
            [
             0.5,
             "#f7f7f7"
            ],
            [
             0.6,
             "#e6f5d0"
            ],
            [
             0.7,
             "#b8e186"
            ],
            [
             0.8,
             "#7fbc41"
            ],
            [
             0.9,
             "#4d9221"
            ],
            [
             1,
             "#276419"
            ]
           ],
           "sequential": [
            [
             0,
             "#0d0887"
            ],
            [
             0.1111111111111111,
             "#46039f"
            ],
            [
             0.2222222222222222,
             "#7201a8"
            ],
            [
             0.3333333333333333,
             "#9c179e"
            ],
            [
             0.4444444444444444,
             "#bd3786"
            ],
            [
             0.5555555555555556,
             "#d8576b"
            ],
            [
             0.6666666666666666,
             "#ed7953"
            ],
            [
             0.7777777777777778,
             "#fb9f3a"
            ],
            [
             0.8888888888888888,
             "#fdca26"
            ],
            [
             1,
             "#f0f921"
            ]
           ],
           "sequentialminus": [
            [
             0,
             "#0d0887"
            ],
            [
             0.1111111111111111,
             "#46039f"
            ],
            [
             0.2222222222222222,
             "#7201a8"
            ],
            [
             0.3333333333333333,
             "#9c179e"
            ],
            [
             0.4444444444444444,
             "#bd3786"
            ],
            [
             0.5555555555555556,
             "#d8576b"
            ],
            [
             0.6666666666666666,
             "#ed7953"
            ],
            [
             0.7777777777777778,
             "#fb9f3a"
            ],
            [
             0.8888888888888888,
             "#fdca26"
            ],
            [
             1,
             "#f0f921"
            ]
           ]
          },
          "colorway": [
           "#636efa",
           "#EF553B",
           "#00cc96",
           "#ab63fa",
           "#FFA15A",
           "#19d3f3",
           "#FF6692",
           "#B6E880",
           "#FF97FF",
           "#FECB52"
          ],
          "font": {
           "color": "#2a3f5f"
          },
          "geo": {
           "bgcolor": "white",
           "lakecolor": "white",
           "landcolor": "#E5ECF6",
           "showlakes": true,
           "showland": true,
           "subunitcolor": "white"
          },
          "hoverlabel": {
           "align": "left"
          },
          "hovermode": "closest",
          "mapbox": {
           "style": "light"
          },
          "paper_bgcolor": "white",
          "plot_bgcolor": "#E5ECF6",
          "polar": {
           "angularaxis": {
            "gridcolor": "white",
            "linecolor": "white",
            "ticks": ""
           },
           "bgcolor": "#E5ECF6",
           "radialaxis": {
            "gridcolor": "white",
            "linecolor": "white",
            "ticks": ""
           }
          },
          "scene": {
           "xaxis": {
            "backgroundcolor": "#E5ECF6",
            "gridcolor": "white",
            "gridwidth": 2,
            "linecolor": "white",
            "showbackground": true,
            "ticks": "",
            "zerolinecolor": "white"
           },
           "yaxis": {
            "backgroundcolor": "#E5ECF6",
            "gridcolor": "white",
            "gridwidth": 2,
            "linecolor": "white",
            "showbackground": true,
            "ticks": "",
            "zerolinecolor": "white"
           },
           "zaxis": {
            "backgroundcolor": "#E5ECF6",
            "gridcolor": "white",
            "gridwidth": 2,
            "linecolor": "white",
            "showbackground": true,
            "ticks": "",
            "zerolinecolor": "white"
           }
          },
          "shapedefaults": {
           "line": {
            "color": "#2a3f5f"
           }
          },
          "ternary": {
           "aaxis": {
            "gridcolor": "white",
            "linecolor": "white",
            "ticks": ""
           },
           "baxis": {
            "gridcolor": "white",
            "linecolor": "white",
            "ticks": ""
           },
           "bgcolor": "#E5ECF6",
           "caxis": {
            "gridcolor": "white",
            "linecolor": "white",
            "ticks": ""
           }
          },
          "title": {
           "x": 0.05
          },
          "xaxis": {
           "automargin": true,
           "gridcolor": "white",
           "linecolor": "white",
           "ticks": "",
           "title": {
            "standoff": 15
           },
           "zerolinecolor": "white",
           "zerolinewidth": 2
          },
          "yaxis": {
           "automargin": true,
           "gridcolor": "white",
           "linecolor": "white",
           "ticks": "",
           "title": {
            "standoff": 15
           },
           "zerolinecolor": "white",
           "zerolinewidth": 2
          }
         }
        },
        "title": {
         "text": "Evolução dos leitos de UTI não exclusivos para Covid-19 no Estado de Goiás",
         "x": 0.5
        },
        "xaxis": {
         "anchor": "y",
         "domain": [
          0,
          1
         ],
         "title": {
          "text": "Data"
         }
        },
        "yaxis": {
         "anchor": "x",
         "domain": [
          0,
          1
         ],
         "title": {
          "text": "Leitos Existentes"
         }
        }
       }
      }
     },
     "metadata": {},
     "output_type": "display_data"
    }
   ],
   "source": [
    "# Nesta análise, verificaremos a progressão dos leitos do tipo UTI que não são ligados exclusivamente à Covid-19\n",
    "dfg = dataset[['COMPETEN','QT_EXIST','CNES', 'CODLEITO']].groupby(by=['CNES', 'COMPETEN', 'CODLEITO']).sum().sort_values(by=['CNES','COMPETEN']).reset_index() # Agrupando os diferentes tipos de leito do mesmo estabelecimento por competência e tipo.\n",
    "dfg = dfg[dfg['CODLEITO'].isin([74, 75, 76, 77, 78, 80, 81, 82, 83, 85, 86])] # Filtrando os tipos de leito de interesse para a análise.\n",
    "dfg = dfg.groupby(by=['COMPETEN','CODLEITO']).sum().sort_values(by=['COMPETEN','CODLEITO']).reset_index().drop(columns={'CNES'}) \n",
    "dfg['CODLEITO'] = dfg['CODLEITO'].replace({74: 'UTI ADULTO - TIPO I, II ou III', # Tipo I\n",
    "                                           75: 'UTI ADULTO - TIPO I, II ou III', # Tipo II\n",
    "                                           76: 'UTI ADULTO - TIPO I, II ou III', # Tipo III\n",
    "                                           77: 'UTI PEDIATRICA - TIPO I ou II',  # Tipo I\n",
    "                                           78: 'UTI PEDIATRICA - TIPO I ou II',  # Tipo II\n",
    "                                           80: 'UTI NEONATAL - TIPO I, II ou III', # Tipo I\n",
    "                                           81: 'UTI NEONATAL - TIPO I, II ou III', # Tipo II\n",
    "                                           82: 'UTI NEONATAL - TIPO I, II ou III', # Tipo III\n",
    "                                           83: 'UTI DE QUEIMADOS',\n",
    "                                           85: 'UTI CORONARIANA TIPO II ou III', # Tipo II\n",
    "                                           86: 'UTI CORONARIANA TIPO II ou III'}) # Tipo III\n",
    "fig = px.bar(dfg, x='COMPETEN', y='QT_EXIST', color='CODLEITO',labels={'COMPETEN': 'Data',\n",
    "                                                                       'QT_EXIST': 'Leitos',\n",
    "                                                                       'CODLEITO': 'Tipo do Leito'}).update_layout(xaxis_title=\"Data\", yaxis_title=\"Leitos Existentes\", title=\"Evolução dos leitos de UTI não exclusivos para Covid-19 no Estado de Goiás\", title_x=0.5) \n",
    "fig.show()\n",
    "del(dfg)"
   ]
  },
  {
   "cell_type": "code",
   "execution_count": 60,
   "metadata": {},
   "outputs": [
    {
     "data": {
      "text/html": [
       "<div>\n",
       "<style scoped>\n",
       "    .dataframe tbody tr th:only-of-type {\n",
       "        vertical-align: middle;\n",
       "    }\n",
       "\n",
       "    .dataframe tbody tr th {\n",
       "        vertical-align: top;\n",
       "    }\n",
       "\n",
       "    .dataframe thead th {\n",
       "        text-align: right;\n",
       "    }\n",
       "</style>\n",
       "<table border=\"1\" class=\"dataframe\">\n",
       "  <thead>\n",
       "    <tr style=\"text-align: right;\">\n",
       "      <th></th>\n",
       "      <th>COMPETEN</th>\n",
       "      <th>QT_EXIST</th>\n",
       "    </tr>\n",
       "  </thead>\n",
       "  <tbody>\n",
       "    <tr>\n",
       "      <th>0</th>\n",
       "      <td>2019-01-01</td>\n",
       "      <td>1434</td>\n",
       "    </tr>\n",
       "    <tr>\n",
       "      <th>46</th>\n",
       "      <td>2022-11-01</td>\n",
       "      <td>2107</td>\n",
       "    </tr>\n",
       "  </tbody>\n",
       "</table>\n",
       "</div>"
      ],
      "text/plain": [
       "     COMPETEN  QT_EXIST\n",
       "0  2019-01-01      1434\n",
       "46 2022-11-01      2107"
      ]
     },
     "metadata": {},
     "output_type": "display_data"
    }
   ],
   "source": [
    "# Verificando Número de Leitos Existentes no inicio e final do conjunto de dados.\n",
    "dfg = dataset[['COMPETEN','QT_EXIST','CNES', 'CODLEITO']].groupby(by=['CNES', 'COMPETEN', 'CODLEITO']).sum().sort_values(by=['CNES','COMPETEN']).reset_index() # Agrupando os diferentes tipos de leito do mesmo estabelecimento por competência e tipo.\n",
    "dfg = dfg[dfg['CODLEITO'].isin([74, 75, 76, 77, 78, 80, 81, 82, 83, 85, 86])] # Filtrando os tipos de leito de interesse para a análise.\n",
    "dfg = dfg.groupby(by=['COMPETEN']).sum().sort_values(by=['COMPETEN']).reset_index().drop(columns={'CNES','CODLEITO'}) \n",
    "display(dfg[::len(dfg)-1])\n",
    "del(dfg)"
   ]
  },
  {
   "attachments": {},
   "cell_type": "markdown",
   "metadata": {},
   "source": [
    "Analisando os graficos acima observamos alguns pontos de destaque:\n",
    "- Há uma redução considerável no número de leitos exclusivos para Covid-19 disponibilizados para o SUS no período que antecede o pico de letalidade do Covid-19 no Brasil (abril de 2021), variando de 413 para 238 leitos no período de novembro de 2020 à fevereiro de 2021.\n",
    "\n",
    "\n",
    "- Há um aumento robusto do número de leitos totais e disponibilizados para o SUS após o pico histórico de contaminações no Brasil (Fevereiro de 2021), demonstrando uma estratégia responsiva da SES visando a sustentabilidade do sistema de saúde neste período de estresse da rede de atenção. No caso dos leitos disponibilizados para o SUS, o número de leitos de UTI foi de 238 para 801 no intervalo de 1 mês (fevereiro->março/2021) e continuou crescendo até outubro do mesmo ano, atingindo um pico de 1006 leitos disponíveis. Esta alteração se dá tanto pelo aquisição de novos leitos, quanto pelo aumento da disponibilização dos leitos já existentes, que permanesceu alta até 2022.\n",
    "\n",
    "\n",
    "- Com o avanço da vacinação e a redução da letalidade potencial das novas variantes do SARS-CoV-2, já no ano de 2022, podemos observar um movimento de transformação dos Leitos Exclusivos para Covid-19 em Leitos de UTI Gerais, principalmente Leitos de UTI Adulto - Tipo II. Esta movimentação é importante, pois amplia a capacidade da atenção terciária para diversos agravos, passando de 1434 leitos de UTI Adulto, Pediátrica, Neonatal, Queimados e Coronáriana para 2107 durante todo o período analizado. "
   ]
  }
 ],
 "metadata": {
  "kernelspec": {
   "display_name": "base",
   "language": "python",
   "name": "python3"
  },
  "language_info": {
   "codemirror_mode": {
    "name": "ipython",
    "version": 3
   },
   "file_extension": ".py",
   "mimetype": "text/x-python",
   "name": "python",
   "nbconvert_exporter": "python",
   "pygments_lexer": "ipython3",
   "version": "3.9.13"
  },
  "orig_nbformat": 4,
  "vscode": {
   "interpreter": {
    "hash": "1870f1194fb5b3d43b6d32e845741389586dbe9c4e1e45e17e0f6602cfe22778"
   }
  }
 },
 "nbformat": 4,
 "nbformat_minor": 2
}
